{
 "cells": [
  {
   "cell_type": "markdown",
   "id": "d92e5e36-858f-42d9-9c1c-79cfed555a6b",
   "metadata": {},
   "source": [
    "<div style=\"text-align:center; background-color: #f0f0f0; padding: 12px;\">\n",
    "    <h1 style=\"background-color: #007acc; color: white; padding: 10px;\"><b>Métodos no paramétricos </b></h1>\n",
    "    <p><strong>Materia:</strong> Cómputo de Alto Rendimiento</p>\n",
    "    <p><strong>Programa:</strong> Maestría en Ciencia de Datos e Información, INFOTEC</p>\n",
    "    <p><strong>Alumno:</strong> Rodrigo Guarneros Gutiérrez</p>\n",
    "</div>"
   ]
  },
  {
   "cell_type": "code",
   "execution_count": 65,
   "id": "4498395f-35f1-4aa7-a2b1-c0ab90ad5663",
   "metadata": {},
   "outputs": [],
   "source": [
    "# Dependencias\n",
    "import requests\n",
    "import pandas as pd\n",
    "import numpy as np\n",
    "from collections import Counter\n",
    "import seaborn as sns\n",
    "from scipy.stats import norm\n",
    "import matplotlib.pyplot as plt\n",
    "from ipywidgets import interact, FloatSlider, IntSlider\n",
    "import ipywidgets as widgets"
   ]
  },
  {
   "cell_type": "code",
   "execution_count": 13,
   "id": "7f15258b-700f-4791-a38a-234c63422031",
   "metadata": {},
   "outputs": [
    {
     "name": "stderr",
     "output_type": "stream",
     "text": [
      "C:\\Users\\rodri\\AppData\\Roaming\\jupyterlab-desktop\\jlab_server\\lib\\site-packages\\urllib3\\connectionpool.py:1045: InsecureRequestWarning: Unverified HTTPS request is being made to host 'www.stat.cmu.edu'. Adding certificate verification is strongly advised. See: https://urllib3.readthedocs.io/en/1.26.x/advanced-usage.html#ssl-warnings\n",
      "  warnings.warn(\n"
     ]
    },
    {
     "name": "stdout",
     "output_type": "stream",
     "text": [
      "            0         1         2\n",
      "0     212.818 -0.959740  0.087054\n",
      "1     212.685 -0.864120  0.140090\n",
      "2     212.612 -0.832380  0.025562\n",
      "3     212.636 -0.841852  0.025397\n",
      "4     212.901 -0.956732  0.172551\n",
      "...       ...       ...       ...\n",
      "1420  216.082  0.249410  0.103185\n",
      "1421  216.058  0.116049  0.150455\n",
      "1422  216.014  0.499399  0.124921\n",
      "1423  215.842  0.837500  0.408984\n",
      "1424  215.754  0.905234  0.103613\n",
      "\n",
      "[1425 rows x 3 columns]\n"
     ]
    }
   ],
   "source": [
    "url = \"https://www.stat.cmu.edu/~larry/all-of-statistics/=Rprograms/a1882_25.dat\"\n",
    "\n",
    "response = requests.get(url, verify=False)\n",
    "\n",
    "if response.status_code == 200:\n",
    "    page_content = response.text\n",
    "\n",
    "    df = pd.read_csv(StringIO(page_content), delim_whitespace=True, header=None)\n",
    "\n",
    "    print(df)\n",
    "\n",
    "else:\n",
    "    print(\"Fallo\")\n"
   ]
  },
  {
   "cell_type": "code",
   "execution_count": 15,
   "id": "9f6b6292-f98a-42d6-bce9-90304414fb6b",
   "metadata": {},
   "outputs": [
    {
     "data": {
      "text/html": [
       "<div>\n",
       "<style scoped>\n",
       "    .dataframe tbody tr th:only-of-type {\n",
       "        vertical-align: middle;\n",
       "    }\n",
       "\n",
       "    .dataframe tbody tr th {\n",
       "        vertical-align: top;\n",
       "    }\n",
       "\n",
       "    .dataframe thead th {\n",
       "        text-align: right;\n",
       "    }\n",
       "</style>\n",
       "<table border=\"1\" class=\"dataframe\">\n",
       "  <thead>\n",
       "    <tr style=\"text-align: right;\">\n",
       "      <th></th>\n",
       "      <th>0</th>\n",
       "      <th>1</th>\n",
       "      <th>2</th>\n",
       "    </tr>\n",
       "  </thead>\n",
       "  <tbody>\n",
       "    <tr>\n",
       "      <th>0</th>\n",
       "      <td>212.818</td>\n",
       "      <td>-0.959740</td>\n",
       "      <td>0.087054</td>\n",
       "    </tr>\n",
       "    <tr>\n",
       "      <th>1</th>\n",
       "      <td>212.685</td>\n",
       "      <td>-0.864120</td>\n",
       "      <td>0.140090</td>\n",
       "    </tr>\n",
       "    <tr>\n",
       "      <th>2</th>\n",
       "      <td>212.612</td>\n",
       "      <td>-0.832380</td>\n",
       "      <td>0.025562</td>\n",
       "    </tr>\n",
       "    <tr>\n",
       "      <th>3</th>\n",
       "      <td>212.636</td>\n",
       "      <td>-0.841852</td>\n",
       "      <td>0.025397</td>\n",
       "    </tr>\n",
       "    <tr>\n",
       "      <th>4</th>\n",
       "      <td>212.901</td>\n",
       "      <td>-0.956732</td>\n",
       "      <td>0.172551</td>\n",
       "    </tr>\n",
       "    <tr>\n",
       "      <th>...</th>\n",
       "      <td>...</td>\n",
       "      <td>...</td>\n",
       "      <td>...</td>\n",
       "    </tr>\n",
       "    <tr>\n",
       "      <th>1420</th>\n",
       "      <td>216.082</td>\n",
       "      <td>0.249410</td>\n",
       "      <td>0.103185</td>\n",
       "    </tr>\n",
       "    <tr>\n",
       "      <th>1421</th>\n",
       "      <td>216.058</td>\n",
       "      <td>0.116049</td>\n",
       "      <td>0.150455</td>\n",
       "    </tr>\n",
       "    <tr>\n",
       "      <th>1422</th>\n",
       "      <td>216.014</td>\n",
       "      <td>0.499399</td>\n",
       "      <td>0.124921</td>\n",
       "    </tr>\n",
       "    <tr>\n",
       "      <th>1423</th>\n",
       "      <td>215.842</td>\n",
       "      <td>0.837500</td>\n",
       "      <td>0.408984</td>\n",
       "    </tr>\n",
       "    <tr>\n",
       "      <th>1424</th>\n",
       "      <td>215.754</td>\n",
       "      <td>0.905234</td>\n",
       "      <td>0.103613</td>\n",
       "    </tr>\n",
       "  </tbody>\n",
       "</table>\n",
       "<p>1425 rows × 3 columns</p>\n",
       "</div>"
      ],
      "text/plain": [
       "            0         1         2\n",
       "0     212.818 -0.959740  0.087054\n",
       "1     212.685 -0.864120  0.140090\n",
       "2     212.612 -0.832380  0.025562\n",
       "3     212.636 -0.841852  0.025397\n",
       "4     212.901 -0.956732  0.172551\n",
       "...       ...       ...       ...\n",
       "1420  216.082  0.249410  0.103185\n",
       "1421  216.058  0.116049  0.150455\n",
       "1422  216.014  0.499399  0.124921\n",
       "1423  215.842  0.837500  0.408984\n",
       "1424  215.754  0.905234  0.103613\n",
       "\n",
       "[1425 rows x 3 columns]"
      ]
     },
     "execution_count": 15,
     "metadata": {},
     "output_type": "execute_result"
    }
   ],
   "source": [
    "df"
   ]
  },
  {
   "cell_type": "code",
   "execution_count": 22,
   "id": "aefd5483-55a5-4c6e-acbe-bab3ca018fb2",
   "metadata": {},
   "outputs": [
    {
     "data": {
      "text/plain": [
       "array([0.087054, 0.14009 , 0.025562, ..., 0.150455, 0.124921, 0.103613])"
      ]
     },
     "execution_count": 22,
     "metadata": {},
     "output_type": "execute_result"
    }
   ],
   "source": [
    "D = np.array(df)\n",
    "D = D[:,2]\n",
    "D = D[D <= 0.2]\n",
    "D"
   ]
  },
  {
   "cell_type": "code",
   "execution_count": 25,
   "id": "ac30bd67-c3d5-4536-ba82-f4c530b83c50",
   "metadata": {},
   "outputs": [],
   "source": [
    "# Necesitamos calcular el histograma para calcular pj\n",
    "# Generamos un histograma con 100 bins (primera línea)\n",
    "m = 100\n",
    "# El siguiente paso  es encontrar los límites de los bins\n",
    "limits = np.linspace(D.min(), D.max(), m+1)\n",
    "# Se encuentra el bin de cada elmento np.dsearchsorted regresa 0 si el valor es menor\n",
    "# que el límite inferior y el tamaño del arreglo si es mayor.\n",
    "_ = np.searchsorted(limits, D, side='right')\n",
    "# Las siguientes líneas se encargan de arregale estad dos características\n",
    "_[_ == 0] = 1\n",
    "_[_ == m + 1] = m\n",
    "# Se cuentan los elementos que pertenecen a cada bin\n",
    "p_j = Counter(_)\n"
   ]
  },
  {
   "cell_type": "code",
   "execution_count": 28,
   "id": "e3654bb6-2777-47cf-9e07-a7f7aa175872",
   "metadata": {},
   "outputs": [
    {
     "data": {
      "text/plain": [
       "array([43, 70, 11, ..., 75, 62, 51], dtype=int64)"
      ]
     },
     "execution_count": 28,
     "metadata": {},
     "output_type": "execute_result"
    }
   ],
   "source": [
    "_"
   ]
  },
  {
   "cell_type": "code",
   "execution_count": 31,
   "id": "7e93dd76-2b19-4b14-a0a6-c02493c31855",
   "metadata": {},
   "outputs": [
    {
     "data": {
      "image/png": "[encoded data removed]",
      "text/plain": [
       "<Figure size 640x480 with 1 Axes>"
      ]
     },
     "metadata": {},
     "output_type": "display_data"
    }
   ],
   "source": [
    "\n",
    "keys = sorted(p_j.keys())\n",
    "pj = [p_j[x] for x in range(keys[0], m + 1)]\n",
    "pos = list(range(10, m, 10))\n",
    "fig = sns.barplot(x=list(range(keys[0], m + 1)), y=pj)\n",
    "fig.set_xticks(ticks=pos, labels=[f'{x}' for x in pos])\n",
    "fig.set_xlabel('Número de bin')\n",
    "_ = fig.set_ylabel('Cantidad de elementos')"
   ]
  },
  {
   "cell_type": "code",
   "execution_count": 33,
   "id": "aba4fd2f-ab21-4e16-a7b6-6230bdcc1897",
   "metadata": {},
   "outputs": [],
   "source": [
    "# Se busca el valor h que minimiza la ecuación iterando por diferentes valores de m\n",
    "def riesgo(D, m=10):\n",
    "    \"\"\"Riesgo de validación cruzada de histograma\"\"\"\n",
    "    N = D.shape[0]\n",
    "    limits = np.linspace(D.min(), D.max(), m + 1)\n",
    "    h = limits[1] - limits[0]\n",
    "    _ = np.searchsorted(limits, D, side='right')\n",
    "    _[_ == 0] = 1\n",
    "    _[_ == m + 1] = m\n",
    "    p_j = Counter(_)\n",
    "    cuadrado = sum([(x / N)**2 for x in p_j.values()])\n",
    "    return (2 / ((N - 1) * h)) - ((N + 1) * cuadrado / ((N - 1) * h))"
   ]
  },
  {
   "cell_type": "code",
   "execution_count": 34,
   "id": "bc51a226-b153-4a8f-8a65-b147315e3e8a",
   "metadata": {},
   "outputs": [
    {
     "data": {
      "image/png": "[encoded data removed]",
      "text/plain": [
       "<Figure size 596.5x500 with 1 Axes>"
      ]
     },
     "metadata": {},
     "output_type": "display_data"
    }
   ],
   "source": [
    "rr = [riesgo(D, m=i) for i in range(1, 501)]\n",
    "data = pd.DataFrame({'Riesgo': rr, 'Número de bins': list(range(1, 501))})\n",
    "data.set_index('Número de bins', inplace=True)\n",
    "_ = sns.relplot(data, kind='line')"
   ]
  },
  {
   "cell_type": "code",
   "execution_count": 63,
   "id": "9e094d81-bb92-411c-9014-bc66763e498b",
   "metadata": {},
   "outputs": [
    {
     "data": {
      "text/plain": [
       "1266"
      ]
     },
     "execution_count": 63,
     "metadata": {},
     "output_type": "execute_result"
    }
   ],
   "source": [
    "len(x)\n",
    "len(D)"
   ]
  },
  {
   "cell_type": "code",
   "execution_count": 37,
   "id": "82a20775-c1cc-4a50-abc8-579f5fab6fee",
   "metadata": {},
   "outputs": [
    {
     "data": {
      "image/png": "[encoded data removed]",
      "text/plain": [
       "<Figure size 626.125x500 with 1 Axes>"
      ]
     },
     "metadata": {},
     "output_type": "display_data"
    }
   ],
   "source": [
    "\n",
    "def hat_f(x, D, h):\n",
    "    N = D.shape[0]\n",
    "    return norm.pdf((x - D) / h).sum() / (h * N)\n",
    "\n",
    "x = np.linspace(D.min(), D.max(), D.shape[0])\n",
    "data = pd.DataFrame({'Estimación': [hat_f(_, D, 0.003) for _ in x], 'x': x})\n",
    "data.set_index('x', inplace=True)\n",
    "_ = sns.relplot(data, kind='line')"
   ]
  },
  {
   "cell_type": "code",
   "execution_count": 54,
   "id": "877dd842-a8a6-43e9-af44-61cf009903ea",
   "metadata": {},
   "outputs": [
    {
     "data": {
      "application/vnd.jupyter.widget-view+json": {
       "model_id": "e4a2fc612e1f441db5b29040e89f898a",
       "version_major": 2,
       "version_minor": 0
      },
      "text/plain": [
       "interactive(children=(FloatSlider(value=0.003, description='h', max=0.03, min=0.003, step=0.001), Output()), _…"
      ]
     },
     "metadata": {},
     "output_type": "display_data"
    },
    {
     "data": {
      "text/plain": [
       "<function __main__.plot_h_effect(h)>"
      ]
     },
     "execution_count": 54,
     "metadata": {},
     "output_type": "execute_result"
    }
   ],
   "source": [
    "\n",
    "def plot_h_effect(h):\n",
    "    x = np.linspace(D.min(), D.max(), D.shape[0])\n",
    "    data = pd.DataFrame({'Estimación': [hat_f(_, D, h) for _ in x], 'x': x})\n",
    "\n",
    "    data = data.reset_index()\n",
    "\n",
    "    plt.figure(figsize=(10, 6))\n",
    "    sns.lineplot(data=data, x='x', y='Estimación')\n",
    "    plt.title(f'Effect of h={h}')\n",
    "    plt.xlabel('x')\n",
    "    plt.ylabel('Estimación')\n",
    "    plt.show()\n",
    "\n",
    "h_slider = FloatSlider(value=0.001, min=0.003, max=0.03, step=0.001, description='h')\n",
    "\n",
    "interact(plot_h_effect, h=h_slider)"
   ]
  },
  {
   "cell_type": "code",
   "execution_count": 56,
   "id": "cd26cdb3-bdf4-4fe0-b7f4-5de9b1803cc0",
   "metadata": {},
   "outputs": [
    {
     "data": {
      "image/png": "[encoded data removed]",
      "text/plain": [
       "<Figure size 626.125x500 with 1 Axes>"
      ]
     },
     "metadata": {},
     "output_type": "display_data"
    }
   ],
   "source": [
    "\n",
    "def hat_f_k(x, D, k):\n",
    "    _ = np.fabs(D - x)\n",
    "    _.sort()\n",
    "    h = _[k]\n",
    "    N = D.shape[0]\n",
    "    return norm.pdf((x - D) / h).sum() / (h * N)\n",
    "\n",
    "x = np.linspace(D.min(), D.max(), D.shape[0])\n",
    "data = pd.DataFrame({'Estimación': [hat_f_k(_, D, 20) for _ in x], 'x': x})\n",
    "data.set_index('x', inplace=True)\n",
    "_ = sns.relplot(data, kind='line')"
   ]
  },
  {
   "cell_type": "code",
   "execution_count": 66,
   "id": "7e226d31-b6b9-4852-a28a-82ca2b767600",
   "metadata": {},
   "outputs": [
    {
     "data": {
      "application/vnd.jupyter.widget-view+json": {
       "model_id": "29d396fb7f2c48beb1e80444a5599268",
       "version_major": 2,
       "version_minor": 0
      },
      "text/plain": [
       "interactive(children=(IntSlider(value=50, description='k', min=2), Output()), _dom_classes=('widget-interact',…"
      ]
     },
     "metadata": {},
     "output_type": "display_data"
    },
    {
     "data": {
      "text/plain": [
       "<function __main__.plot_k_effect(k)>"
      ]
     },
     "execution_count": 66,
     "metadata": {},
     "output_type": "execute_result"
    }
   ],
   "source": [
    "def plot_k_effect(k):\n",
    "    x = np.linspace(D.min(), D.max(), D.shape[0])\n",
    "    data = pd.DataFrame({'Estimación': [hat_f_k(_, D, k) for _ in x], 'x': x})\n",
    "\n",
    "    data = data.reset_index()\n",
    "\n",
    "    plt.figure(figsize=(10, 6))\n",
    "    sns.lineplot(data=data, x='x', y='Estimación')\n",
    "    plt.title(f'Efecto de k={k}')\n",
    "    plt.xlabel('x')\n",
    "    plt.ylabel('Estimación')\n",
    "    plt.show()\n",
    "\n",
    "k_slider = IntSlider(value=50, min=2, max=100, step=1, description='k')\n",
    "\n",
    "interact(plot_k_effect, k=k_slider)\n"
   ]
  },
  {
   "cell_type": "code",
   "execution_count": null,
   "id": "d6a2b373-3f63-4b79-bd16-e5c9324ed5a5",
   "metadata": {},
   "outputs": [],
   "source": [
    "# ¿Con qué criterio se determina k (el número de vecinos o similares)?\n",
    "# Por ejemplo en K-Means iteras hasta que ya no se mueven los centroides."
   ]
  },
  {
   "cell_type": "code",
   "execution_count": null,
   "id": "2b21e1dd-6136-4da6-b22b-8e95eb929e4a",
   "metadata": {},
   "outputs": [],
   "source": [
    "# En kNN los parámetros son distancia y número de vecinos"
   ]
  },
  {
   "cell_type": "code",
   "execution_count": null,
   "id": "3f51037c-e6bc-477e-9d54-0891b5dfeaaa",
   "metadata": {},
   "outputs": [],
   "source": []
  },
  {
   "cell_type": "markdown",
   "id": "fe576c51-5ce0-4c85-abdc-f2d16252cbac",
   "metadata": {
    "id": "fe576c51-5ce0-4c85-abdc-f2d16252cbac",
    "tags": []
   },
   "source": [
    "# Reducción Dimensional\n",
    "(Aprendizaje Supervizado)\n",
    "\n",
    "# Técnicas de reducción dimensional\n",
    "\n",
    "- Selección basada en estadística\n",
    "- Conjunto de validación y validación cruzada\n",
    "- Selección hacia adelante\n",
    "- Análisis de componentes principales"
   ]
  },
  {
   "cell_type": "code",
   "execution_count": 2,
   "id": "b7c68d4c-04ac-45e7-9775-e26aaa5ea217",
   "metadata": {},
   "outputs": [
    {
     "name": "stdout",
     "output_type": "stream",
     "text": [
      "Collecting scipy\n",
      "  Downloading scipy-1.11.2-cp310-cp310-win_amd64.whl (44.0 MB)\n",
      "     ---------------------------------------- 0.0/44.0 MB ? eta -:--:--\n",
      "     --------------------------------------- 0.0/44.0 MB 991.0 kB/s eta 0:00:45\n",
      "     ---------------------------------------- 0.2/44.0 MB 2.1 MB/s eta 0:00:21\n",
      "     ---------------------------------------- 0.3/44.0 MB 2.3 MB/s eta 0:00:20\n",
      "     ---------------------------------------- 0.5/44.0 MB 3.0 MB/s eta 0:00:15\n",
      "      --------------------------------------- 0.7/44.0 MB 3.1 MB/s eta 0:00:15\n",
      "      --------------------------------------- 0.7/44.0 MB 2.6 MB/s eta 0:00:17\n",
      "      --------------------------------------- 1.0/44.0 MB 3.1 MB/s eta 0:00:14\n",
      "     - -------------------------------------- 1.2/44.0 MB 3.3 MB/s eta 0:00:13\n",
      "     - -------------------------------------- 1.4/44.0 MB 3.5 MB/s eta 0:00:13\n",
      "     - -------------------------------------- 1.7/44.0 MB 3.8 MB/s eta 0:00:12\n",
      "     - -------------------------------------- 2.0/44.0 MB 4.1 MB/s eta 0:00:11\n",
      "     -- ------------------------------------- 2.3/44.0 MB 4.2 MB/s eta 0:00:10\n",
      "     -- ------------------------------------- 2.6/44.0 MB 4.4 MB/s eta 0:00:10\n",
      "     -- ------------------------------------- 2.9/44.0 MB 4.5 MB/s eta 0:00:10\n",
      "     -- ------------------------------------- 3.2/44.0 MB 4.6 MB/s eta 0:00:09\n",
      "     --- ------------------------------------ 3.5/44.0 MB 4.7 MB/s eta 0:00:09\n",
      "     --- ------------------------------------ 3.7/44.0 MB 4.8 MB/s eta 0:00:09\n",
      "     --- ------------------------------------ 4.0/44.0 MB 4.8 MB/s eta 0:00:09\n",
      "     --- ------------------------------------ 4.2/44.0 MB 4.8 MB/s eta 0:00:09\n",
      "     ---- ----------------------------------- 4.5/44.0 MB 4.8 MB/s eta 0:00:09\n",
      "     ---- ----------------------------------- 4.6/44.0 MB 4.9 MB/s eta 0:00:09\n",
      "     ---- ----------------------------------- 4.8/44.0 MB 4.7 MB/s eta 0:00:09\n",
      "     ---- ----------------------------------- 5.0/44.0 MB 4.7 MB/s eta 0:00:09\n",
      "     ---- ----------------------------------- 5.2/44.0 MB 4.7 MB/s eta 0:00:09\n",
      "     ---- ----------------------------------- 5.5/44.0 MB 4.8 MB/s eta 0:00:09\n",
      "     ----- ---------------------------------- 5.7/44.0 MB 4.8 MB/s eta 0:00:09\n",
      "     ----- ---------------------------------- 5.9/44.0 MB 4.7 MB/s eta 0:00:09\n",
      "     ----- ---------------------------------- 6.2/44.0 MB 4.8 MB/s eta 0:00:08\n",
      "     ----- ---------------------------------- 6.5/44.0 MB 4.8 MB/s eta 0:00:08\n",
      "     ----- ---------------------------------- 6.6/44.0 MB 4.8 MB/s eta 0:00:08\n",
      "     ------ --------------------------------- 6.9/44.0 MB 4.8 MB/s eta 0:00:08\n",
      "     ------ --------------------------------- 7.0/44.0 MB 4.7 MB/s eta 0:00:08\n",
      "     ------ --------------------------------- 7.3/44.0 MB 4.8 MB/s eta 0:00:08\n",
      "     ------ --------------------------------- 7.6/44.0 MB 4.8 MB/s eta 0:00:08\n",
      "     ------- -------------------------------- 7.9/44.0 MB 4.8 MB/s eta 0:00:08\n",
      "     ------- -------------------------------- 8.2/44.0 MB 4.9 MB/s eta 0:00:08\n",
      "     ------- -------------------------------- 8.5/44.0 MB 4.9 MB/s eta 0:00:08\n",
      "     ------- -------------------------------- 8.7/44.0 MB 4.9 MB/s eta 0:00:08\n",
      "     -------- ------------------------------- 9.0/44.0 MB 5.0 MB/s eta 0:00:08\n",
      "     -------- ------------------------------- 9.2/44.0 MB 5.0 MB/s eta 0:00:07\n",
      "     -------- ------------------------------- 9.5/44.0 MB 5.0 MB/s eta 0:00:07\n",
      "     -------- ------------------------------- 9.7/44.0 MB 5.0 MB/s eta 0:00:07\n",
      "     --------- ------------------------------ 9.9/44.0 MB 5.0 MB/s eta 0:00:07\n",
      "     --------- ------------------------------ 10.3/44.0 MB 5.1 MB/s eta 0:00:07\n",
      "     --------- ------------------------------ 10.5/44.0 MB 5.2 MB/s eta 0:00:07\n",
      "     --------- ------------------------------ 10.8/44.0 MB 5.2 MB/s eta 0:00:07\n",
      "     ---------- ----------------------------- 11.0/44.0 MB 5.4 MB/s eta 0:00:07\n",
      "     ---------- ----------------------------- 11.2/44.0 MB 5.4 MB/s eta 0:00:07\n",
      "     ---------- ----------------------------- 11.6/44.0 MB 5.4 MB/s eta 0:00:07\n",
      "     ---------- ----------------------------- 11.9/44.0 MB 5.4 MB/s eta 0:00:06\n",
      "     ---------- ----------------------------- 12.1/44.0 MB 5.4 MB/s eta 0:00:06\n",
      "     ----------- ---------------------------- 12.3/44.0 MB 5.4 MB/s eta 0:00:06\n",
      "     ----------- ---------------------------- 12.6/44.0 MB 5.4 MB/s eta 0:00:06\n",
      "     ----------- ---------------------------- 12.8/44.0 MB 5.3 MB/s eta 0:00:06\n",
      "     ----------- ---------------------------- 13.1/44.0 MB 5.4 MB/s eta 0:00:06\n",
      "     ------------ --------------------------- 13.4/44.0 MB 5.3 MB/s eta 0:00:06\n",
      "     ------------ --------------------------- 13.6/44.0 MB 5.3 MB/s eta 0:00:06\n",
      "     ------------ --------------------------- 13.8/44.0 MB 5.3 MB/s eta 0:00:06\n",
      "     ------------ --------------------------- 14.0/44.0 MB 5.2 MB/s eta 0:00:06\n",
      "     ------------ --------------------------- 14.2/44.0 MB 5.2 MB/s eta 0:00:06\n",
      "     ------------- -------------------------- 14.3/44.0 MB 5.1 MB/s eta 0:00:06\n",
      "     ------------- -------------------------- 14.4/44.0 MB 5.1 MB/s eta 0:00:06\n",
      "     ------------- -------------------------- 14.5/44.0 MB 5.1 MB/s eta 0:00:06\n",
      "     ------------- -------------------------- 14.7/44.0 MB 5.0 MB/s eta 0:00:06\n",
      "     ------------- -------------------------- 15.0/44.0 MB 5.1 MB/s eta 0:00:06\n",
      "     ------------- -------------------------- 15.2/44.0 MB 5.1 MB/s eta 0:00:06\n",
      "     -------------- ------------------------- 15.4/44.0 MB 5.1 MB/s eta 0:00:06\n",
      "     -------------- ------------------------- 15.7/44.0 MB 5.1 MB/s eta 0:00:06\n",
      "     -------------- ------------------------- 15.8/44.0 MB 5.1 MB/s eta 0:00:06\n",
      "     -------------- ------------------------- 16.0/44.0 MB 5.0 MB/s eta 0:00:06\n",
      "     -------------- ------------------------- 16.2/44.0 MB 5.0 MB/s eta 0:00:06\n",
      "     -------------- ------------------------- 16.3/44.0 MB 5.0 MB/s eta 0:00:06\n",
      "     -------------- ------------------------- 16.4/44.0 MB 4.9 MB/s eta 0:00:06\n",
      "     --------------- ------------------------ 16.7/44.0 MB 4.8 MB/s eta 0:00:06\n",
      "     --------------- ------------------------ 16.8/44.0 MB 4.9 MB/s eta 0:00:06\n",
      "     --------------- ------------------------ 17.2/44.0 MB 4.9 MB/s eta 0:00:06\n",
      "     --------------- ------------------------ 17.3/44.0 MB 4.9 MB/s eta 0:00:06\n",
      "     ---------------- ----------------------- 17.6/44.0 MB 4.9 MB/s eta 0:00:06\n",
      "     ---------------- ----------------------- 18.0/44.0 MB 5.0 MB/s eta 0:00:06\n",
      "     ---------------- ----------------------- 18.2/44.0 MB 4.9 MB/s eta 0:00:06\n",
      "     ---------------- ----------------------- 18.5/44.0 MB 4.9 MB/s eta 0:00:06\n",
      "     ----------------- ---------------------- 18.9/44.0 MB 4.9 MB/s eta 0:00:06\n",
      "     ----------------- ---------------------- 19.2/44.0 MB 4.9 MB/s eta 0:00:06\n",
      "     ----------------- ---------------------- 19.3/44.0 MB 4.9 MB/s eta 0:00:06\n",
      "     ----------------- ---------------------- 19.6/44.0 MB 4.9 MB/s eta 0:00:05\n",
      "     ----------------- ---------------------- 19.8/44.0 MB 4.9 MB/s eta 0:00:05\n",
      "     ------------------ --------------------- 20.1/44.0 MB 4.9 MB/s eta 0:00:05\n",
      "     ------------------ --------------------- 20.3/44.0 MB 4.9 MB/s eta 0:00:05\n",
      "     ------------------ --------------------- 20.5/44.0 MB 4.9 MB/s eta 0:00:05\n",
      "     ------------------ --------------------- 20.9/44.0 MB 4.9 MB/s eta 0:00:05\n",
      "     ------------------- -------------------- 21.1/44.0 MB 5.0 MB/s eta 0:00:05\n",
      "     ------------------- -------------------- 21.4/44.0 MB 4.8 MB/s eta 0:00:05\n",
      "     ------------------- -------------------- 21.6/44.0 MB 4.9 MB/s eta 0:00:05\n",
      "     ------------------- -------------------- 21.9/44.0 MB 4.9 MB/s eta 0:00:05\n",
      "     -------------------- ------------------- 22.0/44.0 MB 4.9 MB/s eta 0:00:05\n",
      "     -------------------- ------------------- 22.4/44.0 MB 4.9 MB/s eta 0:00:05\n",
      "     -------------------- ------------------- 22.5/44.0 MB 4.8 MB/s eta 0:00:05\n",
      "     -------------------- ------------------- 22.8/44.0 MB 4.9 MB/s eta 0:00:05\n",
      "     --------------------- ------------------ 23.1/44.0 MB 4.9 MB/s eta 0:00:05\n",
      "     --------------------- ------------------ 23.4/44.0 MB 4.9 MB/s eta 0:00:05\n",
      "     --------------------- ------------------ 23.5/44.0 MB 4.8 MB/s eta 0:00:05\n",
      "     --------------------- ------------------ 23.8/44.0 MB 4.9 MB/s eta 0:00:05\n",
      "     --------------------- ------------------ 24.1/44.0 MB 4.9 MB/s eta 0:00:05\n",
      "     ---------------------- ----------------- 24.3/44.0 MB 4.9 MB/s eta 0:00:05\n",
      "     ---------------------- ----------------- 24.6/44.0 MB 5.1 MB/s eta 0:00:04\n",
      "     ---------------------- ----------------- 24.9/44.0 MB 5.2 MB/s eta 0:00:04\n",
      "     ---------------------- ----------------- 25.1/44.0 MB 5.2 MB/s eta 0:00:04\n",
      "     ----------------------- ---------------- 25.4/44.0 MB 5.2 MB/s eta 0:00:04\n",
      "     ----------------------- ---------------- 25.7/44.0 MB 5.2 MB/s eta 0:00:04\n",
      "     ----------------------- ---------------- 25.8/44.0 MB 5.2 MB/s eta 0:00:04\n",
      "     ----------------------- ---------------- 26.1/44.0 MB 5.2 MB/s eta 0:00:04\n",
      "     ----------------------- ---------------- 26.2/44.0 MB 5.2 MB/s eta 0:00:04\n",
      "     ------------------------ --------------- 26.6/44.0 MB 5.3 MB/s eta 0:00:04\n",
      "     ------------------------ --------------- 26.8/44.0 MB 5.5 MB/s eta 0:00:04\n",
      "     ------------------------ --------------- 27.1/44.0 MB 5.6 MB/s eta 0:00:04\n",
      "     ------------------------ --------------- 27.4/44.0 MB 5.5 MB/s eta 0:00:04\n",
      "     ------------------------- -------------- 27.5/44.0 MB 5.5 MB/s eta 0:00:04\n",
      "     ------------------------- -------------- 27.8/44.0 MB 5.5 MB/s eta 0:00:03\n",
      "     ------------------------- -------------- 27.9/44.0 MB 5.4 MB/s eta 0:00:04\n",
      "     ------------------------- -------------- 28.1/44.0 MB 5.4 MB/s eta 0:00:03\n",
      "     ------------------------- -------------- 28.4/44.0 MB 5.3 MB/s eta 0:00:03\n",
      "     -------------------------- ------------- 28.6/44.0 MB 5.3 MB/s eta 0:00:03\n",
      "     -------------------------- ------------- 28.9/44.0 MB 5.3 MB/s eta 0:00:03\n",
      "     -------------------------- ------------- 29.2/44.0 MB 5.3 MB/s eta 0:00:03\n",
      "     -------------------------- ------------- 29.4/44.0 MB 5.2 MB/s eta 0:00:03\n",
      "     --------------------------- ------------ 29.7/44.0 MB 5.3 MB/s eta 0:00:03\n",
      "     --------------------------- ------------ 29.9/44.0 MB 5.3 MB/s eta 0:00:03\n",
      "     --------------------------- ------------ 30.1/44.0 MB 5.3 MB/s eta 0:00:03\n",
      "     --------------------------- ------------ 30.4/44.0 MB 5.3 MB/s eta 0:00:03\n",
      "     --------------------------- ------------ 30.6/44.0 MB 5.2 MB/s eta 0:00:03\n",
      "     ---------------------------- ----------- 30.9/44.0 MB 5.2 MB/s eta 0:00:03\n",
      "     ---------------------------- ----------- 31.0/44.0 MB 5.3 MB/s eta 0:00:03\n",
      "     ---------------------------- ----------- 31.3/44.0 MB 5.2 MB/s eta 0:00:03\n",
      "     ---------------------------- ----------- 31.5/44.0 MB 5.2 MB/s eta 0:00:03\n",
      "     ---------------------------- ----------- 31.8/44.0 MB 5.2 MB/s eta 0:00:03\n",
      "     ----------------------------- ---------- 32.1/44.0 MB 5.2 MB/s eta 0:00:03\n",
      "     ----------------------------- ---------- 32.3/44.0 MB 5.2 MB/s eta 0:00:03\n",
      "     ----------------------------- ---------- 32.5/44.0 MB 5.2 MB/s eta 0:00:03\n",
      "     ----------------------------- ---------- 32.8/44.0 MB 5.3 MB/s eta 0:00:03\n",
      "     ----------------------------- ---------- 32.8/44.0 MB 5.1 MB/s eta 0:00:03\n",
      "     ------------------------------ --------- 33.1/44.0 MB 5.1 MB/s eta 0:00:03\n",
      "     ------------------------------ --------- 33.3/44.0 MB 5.1 MB/s eta 0:00:03\n",
      "     ------------------------------ --------- 33.5/44.0 MB 5.0 MB/s eta 0:00:03\n",
      "     ------------------------------ --------- 33.7/44.0 MB 5.1 MB/s eta 0:00:03\n",
      "     ------------------------------ --------- 34.0/44.0 MB 5.1 MB/s eta 0:00:02\n",
      "     ------------------------------- -------- 34.2/44.0 MB 5.0 MB/s eta 0:00:02\n",
      "     ------------------------------- -------- 34.5/44.0 MB 5.0 MB/s eta 0:00:02\n",
      "     ------------------------------- -------- 34.7/44.0 MB 5.0 MB/s eta 0:00:02\n",
      "     ------------------------------- -------- 34.9/44.0 MB 5.0 MB/s eta 0:00:02\n",
      "     ------------------------------- -------- 35.2/44.0 MB 5.0 MB/s eta 0:00:02\n",
      "     -------------------------------- ------- 35.2/44.0 MB 5.0 MB/s eta 0:00:02\n",
      "     -------------------------------- ------- 35.4/44.0 MB 4.9 MB/s eta 0:00:02\n",
      "     -------------------------------- ------- 35.7/44.0 MB 4.9 MB/s eta 0:00:02\n",
      "     -------------------------------- ------- 36.0/44.0 MB 4.9 MB/s eta 0:00:02\n",
      "     --------------------------------- ------ 36.4/44.0 MB 5.0 MB/s eta 0:00:02\n",
      "     --------------------------------- ------ 36.7/44.0 MB 5.0 MB/s eta 0:00:02\n",
      "     --------------------------------- ------ 36.8/44.0 MB 5.0 MB/s eta 0:00:02\n",
      "     --------------------------------- ------ 37.1/44.0 MB 5.0 MB/s eta 0:00:02\n",
      "     --------------------------------- ------ 37.3/44.0 MB 5.0 MB/s eta 0:00:02\n",
      "     ---------------------------------- ----- 37.6/44.0 MB 5.0 MB/s eta 0:00:02\n",
      "     ---------------------------------- ----- 37.8/44.0 MB 5.0 MB/s eta 0:00:02\n",
      "     ---------------------------------- ----- 37.9/44.0 MB 4.9 MB/s eta 0:00:02\n",
      "     ---------------------------------- ----- 38.1/44.0 MB 5.0 MB/s eta 0:00:02\n",
      "     ---------------------------------- ----- 38.4/44.0 MB 5.0 MB/s eta 0:00:02\n",
      "     ----------------------------------- ---- 38.7/44.0 MB 5.0 MB/s eta 0:00:02\n",
      "     ----------------------------------- ---- 39.0/44.0 MB 5.0 MB/s eta 0:00:02\n",
      "     ----------------------------------- ---- 39.2/44.0 MB 5.0 MB/s eta 0:00:01\n",
      "     ----------------------------------- ---- 39.5/44.0 MB 5.0 MB/s eta 0:00:01\n",
      "     ------------------------------------ --- 39.7/44.0 MB 5.0 MB/s eta 0:00:01\n",
      "     ------------------------------------ --- 39.9/44.0 MB 5.0 MB/s eta 0:00:01\n",
      "     ------------------------------------ --- 40.3/44.0 MB 5.0 MB/s eta 0:00:01\n",
      "     ------------------------------------ --- 40.5/44.0 MB 5.0 MB/s eta 0:00:01\n",
      "     ------------------------------------- -- 40.7/44.0 MB 5.0 MB/s eta 0:00:01\n",
      "     ------------------------------------- -- 41.0/44.0 MB 5.0 MB/s eta 0:00:01\n",
      "     ------------------------------------- -- 41.0/44.0 MB 4.9 MB/s eta 0:00:01\n",
      "     ------------------------------------- -- 41.3/44.0 MB 5.0 MB/s eta 0:00:01\n",
      "     ------------------------------------- -- 41.7/44.0 MB 5.0 MB/s eta 0:00:01\n",
      "     -------------------------------------- - 41.8/44.0 MB 5.0 MB/s eta 0:00:01\n",
      "     -------------------------------------- - 42.2/44.0 MB 5.0 MB/s eta 0:00:01\n",
      "     -------------------------------------- - 42.3/44.0 MB 4.9 MB/s eta 0:00:01\n",
      "     -------------------------------------- - 42.6/44.0 MB 5.0 MB/s eta 0:00:01\n",
      "     -------------------------------------- - 42.8/44.0 MB 5.0 MB/s eta 0:00:01\n",
      "     ---------------------------------------  42.9/44.0 MB 5.0 MB/s eta 0:00:01\n",
      "     ---------------------------------------  43.2/44.0 MB 5.1 MB/s eta 0:00:01\n",
      "     ---------------------------------------  43.3/44.0 MB 5.0 MB/s eta 0:00:01\n",
      "     ---------------------------------------  43.6/44.0 MB 5.1 MB/s eta 0:00:01\n",
      "     ---------------------------------------  43.7/44.0 MB 5.0 MB/s eta 0:00:01\n",
      "     ---------------------------------------  43.9/44.0 MB 4.9 MB/s eta 0:00:01\n",
      "     ---------------------------------------  44.0/44.0 MB 5.0 MB/s eta 0:00:01\n",
      "     ---------------------------------------  44.0/44.0 MB 5.0 MB/s eta 0:00:01\n",
      "     ---------------------------------------  44.0/44.0 MB 5.0 MB/s eta 0:00:01\n",
      "     ---------------------------------------- 44.0/44.0 MB 4.6 MB/s eta 0:00:00\n",
      "Collecting numpy<1.28.0,>=1.21.6\n",
      "  Downloading numpy-1.26.0-cp310-cp310-win_amd64.whl (15.8 MB)\n",
      "     ---------------------------------------- 0.0/15.8 MB ? eta -:--:--\n",
      "      --------------------------------------- 0.4/15.8 MB 7.4 MB/s eta 0:00:03\n",
      "     - -------------------------------------- 0.7/15.8 MB 7.0 MB/s eta 0:00:03\n",
      "     -- ------------------------------------- 1.0/15.8 MB 7.0 MB/s eta 0:00:03\n",
      "     -- ------------------------------------- 1.2/15.8 MB 6.2 MB/s eta 0:00:03\n",
      "     --- ------------------------------------ 1.5/15.8 MB 6.2 MB/s eta 0:00:03\n",
      "     ---- ----------------------------------- 1.7/15.8 MB 6.0 MB/s eta 0:00:03\n",
      "     ---- ----------------------------------- 2.0/15.8 MB 6.0 MB/s eta 0:00:03\n",
      "     ----- ---------------------------------- 2.2/15.8 MB 5.9 MB/s eta 0:00:03\n",
      "     ------ --------------------------------- 2.5/15.8 MB 5.8 MB/s eta 0:00:03\n",
      "     ------ --------------------------------- 2.6/15.8 MB 5.5 MB/s eta 0:00:03\n",
      "     ------- -------------------------------- 2.9/15.8 MB 5.7 MB/s eta 0:00:03\n",
      "     -------- ------------------------------- 3.2/15.8 MB 5.7 MB/s eta 0:00:03\n",
      "     -------- ------------------------------- 3.4/15.8 MB 5.5 MB/s eta 0:00:03\n",
      "     -------- ------------------------------- 3.6/15.8 MB 5.5 MB/s eta 0:00:03\n",
      "     --------- ------------------------------ 3.8/15.8 MB 5.4 MB/s eta 0:00:03\n",
      "     ---------- ----------------------------- 4.0/15.8 MB 5.5 MB/s eta 0:00:03\n",
      "     ---------- ----------------------------- 4.3/15.8 MB 5.4 MB/s eta 0:00:03\n",
      "     ----------- ---------------------------- 4.6/15.8 MB 5.4 MB/s eta 0:00:03\n",
      "     ------------ --------------------------- 4.8/15.8 MB 5.5 MB/s eta 0:00:03\n",
      "     ------------ --------------------------- 5.1/15.8 MB 5.4 MB/s eta 0:00:02\n",
      "     ------------- -------------------------- 5.3/15.8 MB 5.4 MB/s eta 0:00:02\n",
      "     -------------- ------------------------- 5.6/15.8 MB 5.4 MB/s eta 0:00:02\n",
      "     -------------- ------------------------- 5.9/15.8 MB 5.5 MB/s eta 0:00:02\n",
      "     --------------- ------------------------ 6.2/15.8 MB 5.5 MB/s eta 0:00:02\n",
      "     ---------------- ----------------------- 6.4/15.8 MB 5.5 MB/s eta 0:00:02\n",
      "     ----------------- ---------------------- 6.7/15.8 MB 5.6 MB/s eta 0:00:02\n",
      "     ----------------- ---------------------- 6.9/15.8 MB 5.5 MB/s eta 0:00:02\n",
      "     ------------------ --------------------- 7.1/15.8 MB 5.4 MB/s eta 0:00:02\n",
      "     ------------------ --------------------- 7.4/15.8 MB 5.5 MB/s eta 0:00:02\n",
      "     ------------------- -------------------- 7.7/15.8 MB 5.4 MB/s eta 0:00:02\n",
      "     -------------------- ------------------- 7.9/15.8 MB 5.5 MB/s eta 0:00:02\n",
      "     -------------------- ------------------- 8.3/15.8 MB 5.5 MB/s eta 0:00:02\n",
      "     --------------------- ------------------ 8.6/15.8 MB 5.5 MB/s eta 0:00:02\n",
      "     ---------------------- ----------------- 8.8/15.8 MB 5.5 MB/s eta 0:00:02\n",
      "     ----------------------- ---------------- 9.1/15.8 MB 5.5 MB/s eta 0:00:02\n",
      "     ----------------------- ---------------- 9.4/15.8 MB 5.5 MB/s eta 0:00:02\n",
      "     ------------------------ --------------- 9.6/15.8 MB 5.5 MB/s eta 0:00:02\n",
      "     ------------------------- -------------- 9.9/15.8 MB 5.6 MB/s eta 0:00:02\n",
      "     ------------------------- -------------- 10.1/15.8 MB 5.6 MB/s eta 0:00:02\n",
      "     -------------------------- ------------- 10.3/15.8 MB 5.6 MB/s eta 0:00:01\n",
      "     -------------------------- ------------- 10.6/15.8 MB 5.5 MB/s eta 0:00:01\n",
      "     --------------------------- ------------ 10.8/15.8 MB 5.4 MB/s eta 0:00:01\n",
      "     ---------------------------- ----------- 11.1/15.8 MB 5.4 MB/s eta 0:00:01\n",
      "     ---------------------------- ----------- 11.3/15.8 MB 5.3 MB/s eta 0:00:01\n",
      "     ----------------------------- ---------- 11.6/15.8 MB 5.4 MB/s eta 0:00:01\n",
      "     ----------------------------- ---------- 11.8/15.8 MB 5.4 MB/s eta 0:00:01\n",
      "     ------------------------------ --------- 12.0/15.8 MB 5.3 MB/s eta 0:00:01\n",
      "     ------------------------------- -------- 12.3/15.8 MB 5.4 MB/s eta 0:00:01\n",
      "     ------------------------------- -------- 12.4/15.8 MB 5.4 MB/s eta 0:00:01\n",
      "     -------------------------------- ------- 12.7/15.8 MB 5.3 MB/s eta 0:00:01\n",
      "     -------------------------------- ------- 12.9/15.8 MB 5.3 MB/s eta 0:00:01\n",
      "     --------------------------------- ------ 13.1/15.8 MB 5.4 MB/s eta 0:00:01\n",
      "     ---------------------------------- ----- 13.4/15.8 MB 5.4 MB/s eta 0:00:01\n",
      "     ---------------------------------- ----- 13.6/15.8 MB 5.4 MB/s eta 0:00:01\n",
      "     ----------------------------------- ---- 13.9/15.8 MB 5.4 MB/s eta 0:00:01\n",
      "     ----------------------------------- ---- 14.2/15.8 MB 5.4 MB/s eta 0:00:01\n",
      "     ------------------------------------ --- 14.3/15.8 MB 5.4 MB/s eta 0:00:01\n",
      "     ------------------------------------ --- 14.6/15.8 MB 5.4 MB/s eta 0:00:01\n",
      "     ------------------------------------- -- 14.8/15.8 MB 5.3 MB/s eta 0:00:01\n",
      "     -------------------------------------- - 15.1/15.8 MB 5.4 MB/s eta 0:00:01\n",
      "     -------------------------------------- - 15.3/15.8 MB 5.4 MB/s eta 0:00:01\n",
      "     ---------------------------------------  15.6/15.8 MB 5.3 MB/s eta 0:00:01\n",
      "     ---------------------------------------  15.8/15.8 MB 5.3 MB/s eta 0:00:01\n",
      "     ---------------------------------------- 15.8/15.8 MB 5.2 MB/s eta 0:00:00\n",
      "Installing collected packages: numpy, scipy\n",
      "Successfully installed numpy-1.26.0 scipy-1.11.2\n"
     ]
    },
    {
     "name": "stderr",
     "output_type": "stream",
     "text": [
      "\n",
      "[notice] A new release of pip is available: 23.0.1 -> 23.2.1\n",
      "[notice] To update, run: python.exe -m pip install --upgrade pip\n",
      "ERROR: Could not find a version that satisfies the requirement skearn (from versions: none)\n",
      "ERROR: No matching distribution found for skearn\n",
      "\n",
      "[notice] A new release of pip is available: 23.0.1 -> 23.2.1\n",
      "[notice] To update, run: python.exe -m pip install --upgrade pip\n"
     ]
    },
    {
     "name": "stdout",
     "output_type": "stream",
     "text": [
      "Collecting EvoMSA\n",
      "  Downloading EvoMSA-1.9.18-cp310-cp310-win_amd64.whl (32.4 MB)\n",
      "     ---------------------------------------- 0.0/32.4 MB ? eta -:--:--\n",
      "     --------------------------------------- 0.0/32.4 MB 960.0 kB/s eta 0:00:34\n",
      "     ---------------------------------------- 0.2/32.4 MB 1.8 MB/s eta 0:00:18\n",
      "     ---------------------------------------- 0.3/32.4 MB 2.0 MB/s eta 0:00:17\n",
      "      --------------------------------------- 0.5/32.4 MB 3.0 MB/s eta 0:00:11\n",
      "      --------------------------------------- 0.6/32.4 MB 2.6 MB/s eta 0:00:13\n",
      "      --------------------------------------- 0.8/32.4 MB 2.9 MB/s eta 0:00:11\n",
      "     - -------------------------------------- 1.1/32.4 MB 3.3 MB/s eta 0:00:10\n",
      "     - -------------------------------------- 1.1/32.4 MB 3.1 MB/s eta 0:00:11\n",
      "     - -------------------------------------- 1.4/32.4 MB 3.4 MB/s eta 0:00:09\n",
      "     -- ------------------------------------- 1.6/32.4 MB 3.6 MB/s eta 0:00:09\n",
      "     -- ------------------------------------- 1.8/32.4 MB 3.6 MB/s eta 0:00:09\n",
      "     -- ------------------------------------- 2.0/32.4 MB 3.7 MB/s eta 0:00:09\n",
      "     -- ------------------------------------- 2.2/32.4 MB 3.6 MB/s eta 0:00:09\n",
      "     -- ------------------------------------- 2.4/32.4 MB 3.8 MB/s eta 0:00:08\n",
      "     --- ------------------------------------ 2.6/32.4 MB 3.8 MB/s eta 0:00:08\n",
      "     --- ------------------------------------ 2.9/32.4 MB 3.9 MB/s eta 0:00:08\n",
      "     --- ------------------------------------ 3.0/32.4 MB 3.9 MB/s eta 0:00:08\n",
      "     ---- ----------------------------------- 3.3/32.4 MB 4.0 MB/s eta 0:00:08\n",
      "     ---- ----------------------------------- 3.6/32.4 MB 4.1 MB/s eta 0:00:07\n",
      "     ---- ----------------------------------- 3.8/32.4 MB 4.2 MB/s eta 0:00:07\n",
      "     ----- ---------------------------------- 4.1/32.4 MB 4.3 MB/s eta 0:00:07\n",
      "     ----- ---------------------------------- 4.4/32.4 MB 4.3 MB/s eta 0:00:07\n",
      "     ----- ---------------------------------- 4.6/32.4 MB 4.4 MB/s eta 0:00:07\n",
      "     ----- ---------------------------------- 4.8/32.4 MB 4.3 MB/s eta 0:00:07\n",
      "     ------ --------------------------------- 5.1/32.4 MB 4.4 MB/s eta 0:00:07\n",
      "     ------ --------------------------------- 5.2/32.4 MB 4.3 MB/s eta 0:00:07\n",
      "     ------ --------------------------------- 5.2/32.4 MB 4.3 MB/s eta 0:00:07\n",
      "     ------ --------------------------------- 5.2/32.4 MB 4.3 MB/s eta 0:00:07\n",
      "     ------ --------------------------------- 5.2/32.4 MB 4.3 MB/s eta 0:00:07\n",
      "     ------ --------------------------------- 5.2/32.4 MB 4.3 MB/s eta 0:00:07\n",
      "     ------ --------------------------------- 5.2/32.4 MB 4.3 MB/s eta 0:00:07\n",
      "     ------ --------------------------------- 5.2/32.4 MB 4.3 MB/s eta 0:00:07\n",
      "     ------ --------------------------------- 5.2/32.4 MB 4.3 MB/s eta 0:00:07\n",
      "     ------ --------------------------------- 5.3/32.4 MB 3.3 MB/s eta 0:00:09\n",
      "     ------ --------------------------------- 5.4/32.4 MB 3.4 MB/s eta 0:00:08\n",
      "     ------- -------------------------------- 5.7/32.4 MB 3.4 MB/s eta 0:00:08\n",
      "     ------- -------------------------------- 6.0/32.4 MB 3.5 MB/s eta 0:00:08\n",
      "     ------- -------------------------------- 6.3/32.4 MB 3.6 MB/s eta 0:00:08\n",
      "     -------- ------------------------------- 6.6/32.4 MB 3.6 MB/s eta 0:00:08\n",
      "     -------- ------------------------------- 6.8/32.4 MB 3.7 MB/s eta 0:00:08\n",
      "     -------- ------------------------------- 7.1/32.4 MB 3.7 MB/s eta 0:00:07\n",
      "     --------- ------------------------------ 7.4/32.4 MB 3.8 MB/s eta 0:00:07\n",
      "     --------- ------------------------------ 7.6/32.4 MB 3.8 MB/s eta 0:00:07\n",
      "     --------- ------------------------------ 7.9/32.4 MB 3.8 MB/s eta 0:00:07\n",
      "     ---------- ----------------------------- 8.1/32.4 MB 3.9 MB/s eta 0:00:07\n",
      "     ---------- ----------------------------- 8.4/32.4 MB 3.9 MB/s eta 0:00:07\n",
      "     ---------- ----------------------------- 8.6/32.4 MB 3.9 MB/s eta 0:00:07\n",
      "     ---------- ----------------------------- 8.8/32.4 MB 4.0 MB/s eta 0:00:06\n",
      "     ----------- ---------------------------- 9.1/32.4 MB 4.0 MB/s eta 0:00:06\n",
      "     ----------- ---------------------------- 9.4/32.4 MB 4.0 MB/s eta 0:00:06\n",
      "     ----------- ---------------------------- 9.7/32.4 MB 4.1 MB/s eta 0:00:06\n",
      "     ------------ --------------------------- 10.0/32.4 MB 4.1 MB/s eta 0:00:06\n",
      "     ------------ --------------------------- 10.2/32.4 MB 4.1 MB/s eta 0:00:06\n",
      "     ------------- -------------------------- 10.5/32.4 MB 4.3 MB/s eta 0:00:06\n",
      "     ------------- -------------------------- 10.8/32.4 MB 4.4 MB/s eta 0:00:05\n",
      "     ------------- -------------------------- 11.0/32.4 MB 4.3 MB/s eta 0:00:05\n",
      "     ------------- -------------------------- 11.2/32.4 MB 4.4 MB/s eta 0:00:05\n",
      "     -------------- ------------------------- 11.5/32.4 MB 4.4 MB/s eta 0:00:05\n",
      "     -------------- ------------------------- 11.7/32.4 MB 4.5 MB/s eta 0:00:05\n",
      "     -------------- ------------------------- 12.0/32.4 MB 4.4 MB/s eta 0:00:05\n",
      "     --------------- ------------------------ 12.2/32.4 MB 4.5 MB/s eta 0:00:05\n",
      "     --------------- ------------------------ 12.4/32.4 MB 4.5 MB/s eta 0:00:05\n",
      "     --------------- ------------------------ 12.7/32.4 MB 4.5 MB/s eta 0:00:05\n",
      "     ---------------- ----------------------- 13.0/32.4 MB 4.5 MB/s eta 0:00:05\n",
      "     ---------------- ----------------------- 13.1/32.4 MB 4.5 MB/s eta 0:00:05\n",
      "     ---------------- ----------------------- 13.5/32.4 MB 4.5 MB/s eta 0:00:05\n",
      "     ---------------- ----------------------- 13.6/32.4 MB 4.5 MB/s eta 0:00:05\n",
      "     ----------------- ---------------------- 13.8/32.4 MB 4.5 MB/s eta 0:00:05\n",
      "     ----------------- ---------------------- 14.0/32.4 MB 4.5 MB/s eta 0:00:05\n",
      "     ----------------- ---------------------- 14.3/32.4 MB 4.5 MB/s eta 0:00:05\n",
      "     ------------------ --------------------- 14.6/32.4 MB 4.5 MB/s eta 0:00:04\n",
      "     ------------------ --------------------- 14.8/32.4 MB 4.5 MB/s eta 0:00:04\n",
      "     ------------------ --------------------- 15.0/32.4 MB 4.5 MB/s eta 0:00:04\n",
      "     ------------------ --------------------- 15.3/32.4 MB 4.5 MB/s eta 0:00:04\n",
      "     ------------------- -------------------- 15.5/32.4 MB 5.4 MB/s eta 0:00:04\n",
      "     ------------------- -------------------- 15.8/32.4 MB 5.4 MB/s eta 0:00:04\n",
      "     ------------------- -------------------- 15.9/32.4 MB 5.3 MB/s eta 0:00:04\n",
      "     -------------------- ------------------- 16.3/32.4 MB 5.3 MB/s eta 0:00:04\n",
      "     -------------------- ------------------- 16.5/32.4 MB 5.4 MB/s eta 0:00:03\n",
      "     -------------------- ------------------- 16.7/32.4 MB 5.2 MB/s eta 0:00:04\n",
      "     --------------------- ------------------ 17.0/32.4 MB 5.3 MB/s eta 0:00:03\n",
      "     --------------------- ------------------ 17.3/32.4 MB 5.3 MB/s eta 0:00:03\n",
      "     --------------------- ------------------ 17.5/32.4 MB 5.4 MB/s eta 0:00:03\n",
      "     ---------------------- ----------------- 17.8/32.4 MB 5.3 MB/s eta 0:00:03\n",
      "     ---------------------- ----------------- 18.1/32.4 MB 5.4 MB/s eta 0:00:03\n",
      "     ---------------------- ----------------- 18.4/32.4 MB 5.3 MB/s eta 0:00:03\n",
      "     ----------------------- ---------------- 18.7/32.4 MB 5.4 MB/s eta 0:00:03\n",
      "     ----------------------- ---------------- 18.8/32.4 MB 5.4 MB/s eta 0:00:03\n",
      "     ----------------------- ---------------- 19.1/32.4 MB 5.4 MB/s eta 0:00:03\n",
      "     ----------------------- ---------------- 19.4/32.4 MB 5.5 MB/s eta 0:00:03\n",
      "     ------------------------ --------------- 19.6/32.4 MB 5.3 MB/s eta 0:00:03\n",
      "     ------------------------ --------------- 19.8/32.4 MB 5.3 MB/s eta 0:00:03\n",
      "     ------------------------ --------------- 20.0/32.4 MB 5.2 MB/s eta 0:00:03\n",
      "     ------------------------- -------------- 20.3/32.4 MB 5.2 MB/s eta 0:00:03\n",
      "     ------------------------- -------------- 20.6/32.4 MB 5.3 MB/s eta 0:00:03\n",
      "     ------------------------- -------------- 20.9/32.4 MB 5.3 MB/s eta 0:00:03\n",
      "     ------------------------- -------------- 21.0/32.4 MB 5.3 MB/s eta 0:00:03\n",
      "     -------------------------- ------------- 21.3/32.4 MB 5.3 MB/s eta 0:00:03\n",
      "     -------------------------- ------------- 21.5/32.4 MB 5.2 MB/s eta 0:00:03\n",
      "     -------------------------- ------------- 21.7/32.4 MB 5.2 MB/s eta 0:00:03\n",
      "     --------------------------- ------------ 22.0/32.4 MB 5.2 MB/s eta 0:00:02\n",
      "     --------------------------- ------------ 22.3/32.4 MB 5.2 MB/s eta 0:00:02\n",
      "     --------------------------- ------------ 22.4/32.4 MB 5.2 MB/s eta 0:00:02\n",
      "     ---------------------------- ----------- 22.7/32.4 MB 5.2 MB/s eta 0:00:02\n",
      "     ---------------------------- ----------- 22.9/32.4 MB 5.2 MB/s eta 0:00:02\n",
      "     ---------------------------- ----------- 23.1/32.4 MB 5.2 MB/s eta 0:00:02\n",
      "     ---------------------------- ----------- 23.3/32.4 MB 5.2 MB/s eta 0:00:02\n",
      "     ----------------------------- ---------- 23.6/32.4 MB 5.2 MB/s eta 0:00:02\n",
      "     ----------------------------- ---------- 23.9/32.4 MB 5.3 MB/s eta 0:00:02\n",
      "     ----------------------------- ---------- 24.2/32.4 MB 5.3 MB/s eta 0:00:02\n",
      "     ------------------------------ --------- 24.4/32.4 MB 5.3 MB/s eta 0:00:02\n",
      "     ------------------------------ --------- 24.7/32.4 MB 5.3 MB/s eta 0:00:02\n",
      "     ------------------------------ --------- 24.9/32.4 MB 5.2 MB/s eta 0:00:02\n",
      "     ------------------------------- -------- 25.2/32.4 MB 5.2 MB/s eta 0:00:02\n",
      "     ------------------------------- -------- 25.4/32.4 MB 5.3 MB/s eta 0:00:02\n",
      "     ------------------------------- -------- 25.5/32.4 MB 5.2 MB/s eta 0:00:02\n",
      "     ------------------------------- -------- 25.7/32.4 MB 5.2 MB/s eta 0:00:02\n",
      "     ------------------------------- -------- 25.8/32.4 MB 5.1 MB/s eta 0:00:02\n",
      "     -------------------------------- ------- 26.0/32.4 MB 5.1 MB/s eta 0:00:02\n",
      "     -------------------------------- ------- 26.2/32.4 MB 5.1 MB/s eta 0:00:02\n",
      "     -------------------------------- ------- 26.5/32.4 MB 5.1 MB/s eta 0:00:02\n",
      "     -------------------------------- ------- 26.7/32.4 MB 5.0 MB/s eta 0:00:02\n",
      "     --------------------------------- ------ 27.0/32.4 MB 5.1 MB/s eta 0:00:02\n",
      "     --------------------------------- ------ 27.2/32.4 MB 5.1 MB/s eta 0:00:02\n",
      "     --------------------------------- ------ 27.4/32.4 MB 5.1 MB/s eta 0:00:01\n",
      "     ---------------------------------- ----- 27.8/32.4 MB 5.1 MB/s eta 0:00:01\n",
      "     ---------------------------------- ----- 27.9/32.4 MB 5.1 MB/s eta 0:00:01\n",
      "     ---------------------------------- ----- 28.1/32.4 MB 5.0 MB/s eta 0:00:01\n",
      "     ---------------------------------- ----- 28.2/32.4 MB 4.9 MB/s eta 0:00:01\n",
      "     ----------------------------------- ---- 28.4/32.4 MB 4.9 MB/s eta 0:00:01\n",
      "     ----------------------------------- ---- 28.4/32.4 MB 4.9 MB/s eta 0:00:01\n",
      "     ----------------------------------- ---- 28.5/32.4 MB 4.8 MB/s eta 0:00:01\n",
      "     ----------------------------------- ---- 28.6/32.4 MB 4.6 MB/s eta 0:00:01\n",
      "     ----------------------------------- ---- 28.8/32.4 MB 4.7 MB/s eta 0:00:01\n",
      "     ----------------------------------- ---- 28.9/32.4 MB 4.6 MB/s eta 0:00:01\n",
      "     ----------------------------------- ---- 29.0/32.4 MB 4.5 MB/s eta 0:00:01\n",
      "     ------------------------------------ --- 29.1/32.4 MB 4.5 MB/s eta 0:00:01\n",
      "     ------------------------------------ --- 29.5/32.4 MB 4.5 MB/s eta 0:00:01\n",
      "     ------------------------------------ --- 29.6/32.4 MB 4.4 MB/s eta 0:00:01\n",
      "     ------------------------------------ --- 29.9/32.4 MB 4.5 MB/s eta 0:00:01\n",
      "     ------------------------------------- -- 30.0/32.4 MB 4.5 MB/s eta 0:00:01\n",
      "     ------------------------------------- -- 30.3/32.4 MB 4.5 MB/s eta 0:00:01\n",
      "     ------------------------------------- -- 30.5/32.4 MB 4.4 MB/s eta 0:00:01\n",
      "     ------------------------------------- -- 30.7/32.4 MB 4.4 MB/s eta 0:00:01\n",
      "     -------------------------------------- - 31.0/32.4 MB 4.4 MB/s eta 0:00:01\n",
      "     -------------------------------------- - 31.2/32.4 MB 4.5 MB/s eta 0:00:01\n",
      "     -------------------------------------- - 31.5/32.4 MB 4.5 MB/s eta 0:00:01\n",
      "     ---------------------------------------  31.7/32.4 MB 4.5 MB/s eta 0:00:01\n",
      "     ---------------------------------------  31.8/32.4 MB 4.4 MB/s eta 0:00:01\n",
      "     ---------------------------------------  32.1/32.4 MB 4.4 MB/s eta 0:00:01\n",
      "     ---------------------------------------  32.3/32.4 MB 4.4 MB/s eta 0:00:01\n",
      "     ---------------------------------------  32.4/32.4 MB 4.4 MB/s eta 0:00:01\n",
      "     ---------------------------------------  32.4/32.4 MB 4.4 MB/s eta 0:00:01\n",
      "     ---------------------------------------- 32.4/32.4 MB 4.1 MB/s eta 0:00:00\n",
      "Collecting B4MSA\n",
      "  Using cached b4msa-2.2.2-py3-none-any.whl (64 kB)\n",
      "Collecting scikit-learn>=1.3.0\n",
      "  Downloading scikit_learn-1.3.1-cp310-cp310-win_amd64.whl (9.3 MB)\n",
      "     ---------------------------------------- 0.0/9.3 MB ? eta -:--:--\n",
      "      --------------------------------------- 0.2/9.3 MB 4.1 MB/s eta 0:00:03\n",
      "     - -------------------------------------- 0.5/9.3 MB 7.0 MB/s eta 0:00:02\n",
      "     --- ------------------------------------ 0.8/9.3 MB 5.4 MB/s eta 0:00:02\n",
      "     --- ------------------------------------ 0.9/9.3 MB 4.8 MB/s eta 0:00:02\n",
      "     ----- ---------------------------------- 1.3/9.3 MB 5.3 MB/s eta 0:00:02\n",
      "     ------ --------------------------------- 1.4/9.3 MB 5.4 MB/s eta 0:00:02\n",
      "     ------- -------------------------------- 1.8/9.3 MB 5.6 MB/s eta 0:00:02\n",
      "     -------- ------------------------------- 2.0/9.3 MB 5.4 MB/s eta 0:00:02\n",
      "     --------- ------------------------------ 2.2/9.3 MB 5.3 MB/s eta 0:00:02\n",
      "     ----------- ---------------------------- 2.5/9.3 MB 5.6 MB/s eta 0:00:02\n",
      "     ----------- ---------------------------- 2.7/9.3 MB 5.4 MB/s eta 0:00:02\n",
      "     ------------- -------------------------- 3.0/9.3 MB 5.5 MB/s eta 0:00:02\n",
      "     -------------- ------------------------- 3.3/9.3 MB 5.6 MB/s eta 0:00:02\n",
      "     --------------- ------------------------ 3.6/9.3 MB 5.6 MB/s eta 0:00:01\n",
      "     ---------------- ----------------------- 3.9/9.3 MB 5.7 MB/s eta 0:00:01\n",
      "     ------------------ --------------------- 4.2/9.3 MB 5.7 MB/s eta 0:00:01\n",
      "     ------------------- -------------------- 4.5/9.3 MB 5.7 MB/s eta 0:00:01\n",
      "     -------------------- ------------------- 4.8/9.3 MB 5.7 MB/s eta 0:00:01\n",
      "     --------------------- ------------------ 5.1/9.3 MB 5.8 MB/s eta 0:00:01\n",
      "     ----------------------- ---------------- 5.4/9.3 MB 5.7 MB/s eta 0:00:01\n",
      "     ------------------------ --------------- 5.6/9.3 MB 5.6 MB/s eta 0:00:01\n",
      "     ------------------------- -------------- 5.9/9.3 MB 5.8 MB/s eta 0:00:01\n",
      "     -------------------------- ------------- 6.2/9.3 MB 5.7 MB/s eta 0:00:01\n",
      "     ---------------------------- ----------- 6.5/9.3 MB 5.8 MB/s eta 0:00:01\n",
      "     ----------------------------- ---------- 6.7/9.3 MB 5.8 MB/s eta 0:00:01\n",
      "     ------------------------------ --------- 6.9/9.3 MB 5.7 MB/s eta 0:00:01\n",
      "     ------------------------------- -------- 7.2/9.3 MB 5.8 MB/s eta 0:00:01\n",
      "     -------------------------------- ------- 7.5/9.3 MB 5.7 MB/s eta 0:00:01\n",
      "     --------------------------------- ------ 7.8/9.3 MB 5.8 MB/s eta 0:00:01\n",
      "     ---------------------------------- ----- 7.9/9.3 MB 5.7 MB/s eta 0:00:01\n",
      "     ----------------------------------- ---- 8.2/9.3 MB 5.7 MB/s eta 0:00:01\n",
      "     ------------------------------------- -- 8.6/9.3 MB 5.7 MB/s eta 0:00:01\n",
      "     ------------------------------------- -- 8.7/9.3 MB 5.7 MB/s eta 0:00:01\n",
      "     ---------------------------------------  9.1/9.3 MB 5.7 MB/s eta 0:00:01\n",
      "     ---------------------------------------  9.2/9.3 MB 5.7 MB/s eta 0:00:01\n",
      "     ---------------------------------------- 9.3/9.3 MB 5.5 MB/s eta 0:00:00\n",
      "Collecting threadpoolctl>=2.0.0\n",
      "  Downloading threadpoolctl-3.2.0-py3-none-any.whl (15 kB)\n",
      "Requirement already satisfied: numpy<2.0,>=1.17.3 in c:\\users\\rodri\\onedrive\\imágenes\\documentos\\infotec\\segundo trimestre\\aprendizaje computacional\\unidad 5 (reducción dimensional)\\venv\\lib\\site-packages (from scikit-learn>=1.3.0->EvoMSA) (1.26.0)\n",
      "Requirement already satisfied: scipy>=1.5.0 in c:\\users\\rodri\\onedrive\\imágenes\\documentos\\infotec\\segundo trimestre\\aprendizaje computacional\\unidad 5 (reducción dimensional)\\venv\\lib\\site-packages (from scikit-learn>=1.3.0->EvoMSA) (1.11.2)\n",
      "Collecting joblib>=1.1.1\n",
      "  Downloading joblib-1.3.2-py3-none-any.whl (302 kB)\n",
      "     ---------------------------------------- 0.0/302.2 kB ? eta -:--:--\n",
      "     -------------------------------------- 302.2/302.2 kB 6.3 MB/s eta 0:00:00\n",
      "Collecting microtc\n",
      "  Using cached microtc-2.4.9-py3-none-any.whl (63 kB)\n",
      "Installing collected packages: microtc, threadpoolctl, joblib, B4MSA, scikit-learn, EvoMSA\n",
      "Successfully installed B4MSA-2.2.2 EvoMSA-1.9.18 joblib-1.3.2 microtc-2.4.9 scikit-learn-1.3.1 threadpoolctl-3.2.0\n"
     ]
    },
    {
     "name": "stderr",
     "output_type": "stream",
     "text": [
      "\n",
      "[notice] A new release of pip is available: 23.0.1 -> 23.2.1\n",
      "[notice] To update, run: python.exe -m pip install --upgrade pip\n"
     ]
    }
   ],
   "source": [
    "!pip install scipy\n",
    "!pip install skearn\n",
    "!pip install EvoMSA"
   ]
  },
  {
   "cell_type": "code",
   "execution_count": 4,
   "id": "6715cdbe-fbe5-46f6-8e32-31dfe8edc570",
   "metadata": {},
   "outputs": [
    {
     "name": "stdout",
     "output_type": "stream",
     "text": [
      "Collecting nltk\n",
      "  Using cached nltk-3.8.1-py3-none-any.whl (1.5 MB)\n",
      "Collecting click\n",
      "  Downloading click-8.1.7-py3-none-any.whl (97 kB)\n",
      "     ---------------------------------------- 0.0/97.9 kB ? eta -:--:--\n",
      "     ------------------------- -------------- 61.4/97.9 kB 1.7 MB/s eta 0:00:01\n",
      "     ---------------------------------------- 97.9/97.9 kB 1.9 MB/s eta 0:00:00\n",
      "Collecting regex>=2021.8.3\n",
      "  Downloading regex-2023.8.8-cp310-cp310-win_amd64.whl (268 kB)\n",
      "     ---------------------------------------- 0.0/268.3 kB ? eta -:--:--\n",
      "     -------------------- ----------------- 143.4/268.3 kB 2.9 MB/s eta 0:00:01\n",
      "     -------------------------------------- 268.3/268.3 kB 3.3 MB/s eta 0:00:00\n",
      "Requirement already satisfied: joblib in c:\\users\\rodri\\onedrive\\imágenes\\documentos\\infotec\\segundo trimestre\\aprendizaje computacional\\unidad 5 (reducción dimensional)\\venv\\lib\\site-packages (from nltk) (1.3.2)\n",
      "Collecting tqdm\n",
      "  Downloading tqdm-4.66.1-py3-none-any.whl (78 kB)\n",
      "     ---------------------------------------- 0.0/78.3 kB ? eta -:--:--\n",
      "     ---------------------------------------- 78.3/78.3 kB 4.5 MB/s eta 0:00:00\n",
      "Requirement already satisfied: colorama in c:\\users\\rodri\\onedrive\\imágenes\\documentos\\infotec\\segundo trimestre\\aprendizaje computacional\\unidad 5 (reducción dimensional)\\venv\\lib\\site-packages (from click->nltk) (0.4.6)\n",
      "Installing collected packages: tqdm, regex, click, nltk\n",
      "Successfully installed click-8.1.7 nltk-3.8.1 regex-2023.8.8 tqdm-4.66.1\n"
     ]
    },
    {
     "name": "stderr",
     "output_type": "stream",
     "text": [
      "\n",
      "[notice] A new release of pip is available: 23.0.1 -> 23.2.1\n",
      "[notice] To update, run: python.exe -m pip install --upgrade pip\n"
     ]
    }
   ],
   "source": [
    "!pip install nltk"
   ]
  },
  {
   "cell_type": "code",
   "execution_count": 6,
   "id": "8b8f80c3-920f-4d86-bce4-a7c1c6b2836e",
   "metadata": {},
   "outputs": [
    {
     "name": "stdout",
     "output_type": "stream",
     "text": [
      "Collecting pandas\n",
      "  Downloading pandas-2.1.1-cp310-cp310-win_amd64.whl (10.7 MB)\n",
      "     ---------------------------------------- 0.0/10.7 MB ? eta -:--:--\n",
      "     ---------------------------------------- 0.0/10.7 MB 1.3 MB/s eta 0:00:09\n",
      "     ---------------------------------------- 0.1/10.7 MB 1.7 MB/s eta 0:00:07\n",
      "      --------------------------------------- 0.2/10.7 MB 2.3 MB/s eta 0:00:05\n",
      "     - -------------------------------------- 0.4/10.7 MB 2.7 MB/s eta 0:00:04\n",
      "     -- ------------------------------------- 0.7/10.7 MB 3.1 MB/s eta 0:00:04\n",
      "     -- ------------------------------------- 0.8/10.7 MB 3.0 MB/s eta 0:00:04\n",
      "     -- ------------------------------------- 0.8/10.7 MB 3.0 MB/s eta 0:00:04\n",
      "     ---- ----------------------------------- 1.3/10.7 MB 3.5 MB/s eta 0:00:03\n",
      "     ----- ---------------------------------- 1.4/10.7 MB 3.4 MB/s eta 0:00:03\n",
      "     ------ --------------------------------- 1.7/10.7 MB 3.7 MB/s eta 0:00:03\n",
      "     ------ --------------------------------- 1.9/10.7 MB 3.7 MB/s eta 0:00:03\n",
      "     -------- ------------------------------- 2.2/10.7 MB 4.1 MB/s eta 0:00:03\n",
      "     -------- ------------------------------- 2.4/10.7 MB 4.0 MB/s eta 0:00:03\n",
      "     ---------- ----------------------------- 2.7/10.7 MB 4.2 MB/s eta 0:00:02\n",
      "     ---------- ----------------------------- 2.8/10.7 MB 4.0 MB/s eta 0:00:02\n",
      "     ----------- ---------------------------- 3.1/10.7 MB 4.1 MB/s eta 0:00:02\n",
      "     ------------ --------------------------- 3.3/10.7 MB 4.2 MB/s eta 0:00:02\n",
      "     ------------ --------------------------- 3.5/10.7 MB 4.2 MB/s eta 0:00:02\n",
      "     -------------- ------------------------- 3.8/10.7 MB 4.3 MB/s eta 0:00:02\n",
      "     --------------- ------------------------ 4.0/10.7 MB 4.4 MB/s eta 0:00:02\n",
      "     ---------------- ----------------------- 4.3/10.7 MB 4.3 MB/s eta 0:00:02\n",
      "     ----------------- ---------------------- 4.6/10.7 MB 4.4 MB/s eta 0:00:02\n",
      "     ----------------- ---------------------- 4.7/10.7 MB 4.4 MB/s eta 0:00:02\n",
      "     ------------------ --------------------- 5.0/10.7 MB 4.4 MB/s eta 0:00:02\n",
      "     ------------------- -------------------- 5.2/10.7 MB 4.4 MB/s eta 0:00:02\n",
      "     -------------------- ------------------- 5.4/10.7 MB 4.6 MB/s eta 0:00:02\n",
      "     --------------------- ------------------ 5.7/10.7 MB 4.5 MB/s eta 0:00:02\n",
      "     ---------------------- ----------------- 5.9/10.7 MB 4.5 MB/s eta 0:00:02\n",
      "     ----------------------- ---------------- 6.2/10.7 MB 4.6 MB/s eta 0:00:01\n",
      "     ------------------------ --------------- 6.5/10.7 MB 4.6 MB/s eta 0:00:01\n",
      "     ------------------------ --------------- 6.6/10.7 MB 4.6 MB/s eta 0:00:01\n",
      "     ------------------------- -------------- 6.8/10.7 MB 4.5 MB/s eta 0:00:01\n",
      "     -------------------------- ------------- 7.0/10.7 MB 4.5 MB/s eta 0:00:01\n",
      "     --------------------------- ------------ 7.2/10.7 MB 4.6 MB/s eta 0:00:01\n",
      "     ---------------------------- ----------- 7.5/10.7 MB 4.6 MB/s eta 0:00:01\n",
      "     ---------------------------- ----------- 7.7/10.7 MB 4.5 MB/s eta 0:00:01\n",
      "     ----------------------------- ---------- 7.9/10.7 MB 4.6 MB/s eta 0:00:01\n",
      "     ------------------------------ --------- 8.2/10.7 MB 4.6 MB/s eta 0:00:01\n",
      "     ------------------------------- -------- 8.4/10.7 MB 4.6 MB/s eta 0:00:01\n",
      "     -------------------------------- ------- 8.6/10.7 MB 4.6 MB/s eta 0:00:01\n",
      "     -------------------------------- ------- 8.8/10.7 MB 4.6 MB/s eta 0:00:01\n",
      "     --------------------------------- ------ 9.1/10.7 MB 4.6 MB/s eta 0:00:01\n",
      "     --------------------------------- ------ 9.1/10.7 MB 4.5 MB/s eta 0:00:01\n",
      "     --------------------------------- ------ 9.1/10.7 MB 4.5 MB/s eta 0:00:01\n",
      "     --------------------------------- ------ 9.1/10.7 MB 4.5 MB/s eta 0:00:01\n",
      "     ------------------------------------ --- 9.9/10.7 MB 4.6 MB/s eta 0:00:01\n",
      "     -------------------------------------- - 10.2/10.7 MB 4.6 MB/s eta 0:00:01\n",
      "     -------------------------------------- - 10.4/10.7 MB 4.7 MB/s eta 0:00:01\n",
      "     ---------------------------------------  10.6/10.7 MB 4.8 MB/s eta 0:00:01\n",
      "     ---------------------------------------  10.7/10.7 MB 4.9 MB/s eta 0:00:01\n",
      "     ---------------------------------------- 10.7/10.7 MB 4.8 MB/s eta 0:00:00\n",
      "Collecting pytz>=2020.1\n",
      "  Downloading pytz-2023.3.post1-py2.py3-none-any.whl (502 kB)\n",
      "     ---------------------------------------- 0.0/502.5 kB ? eta -:--:--\n",
      "     -------------- ---------------------- 194.6/502.5 kB 11.5 MB/s eta 0:00:01\n",
      "     -------------------------------------  501.8/502.5 kB 6.3 MB/s eta 0:00:01\n",
      "     -------------------------------------- 502.5/502.5 kB 5.2 MB/s eta 0:00:00\n",
      "Requirement already satisfied: numpy>=1.22.4 in c:\\users\\rodri\\onedrive\\imágenes\\documentos\\infotec\\segundo trimestre\\aprendizaje computacional\\unidad 5 (reducción dimensional)\\venv\\lib\\site-packages (from pandas) (1.26.0)\n",
      "Requirement already satisfied: python-dateutil>=2.8.2 in c:\\users\\rodri\\onedrive\\imágenes\\documentos\\infotec\\segundo trimestre\\aprendizaje computacional\\unidad 5 (reducción dimensional)\\venv\\lib\\site-packages (from pandas) (2.8.2)\n",
      "Collecting tzdata>=2022.1\n",
      "  Using cached tzdata-2023.3-py2.py3-none-any.whl (341 kB)\n",
      "Requirement already satisfied: six>=1.5 in c:\\users\\rodri\\onedrive\\imágenes\\documentos\\infotec\\segundo trimestre\\aprendizaje computacional\\unidad 5 (reducción dimensional)\\venv\\lib\\site-packages (from python-dateutil>=2.8.2->pandas) (1.16.0)\n",
      "Installing collected packages: pytz, tzdata, pandas\n",
      "Successfully installed pandas-2.1.1 pytz-2023.3.post1 tzdata-2023.3\n"
     ]
    },
    {
     "name": "stderr",
     "output_type": "stream",
     "text": [
      "\n",
      "[notice] A new release of pip is available: 23.0.1 -> 23.2.1\n",
      "[notice] To update, run: python.exe -m pip install --upgrade pip\n"
     ]
    },
    {
     "name": "stdout",
     "output_type": "stream",
     "text": [
      "Collecting matplotlib"
     ]
    },
    {
     "name": "stderr",
     "output_type": "stream",
     "text": [
      "\n",
      "[notice] A new release of pip is available: 23.0.1 -> 23.2.1\n",
      "[notice] To update, run: python.exe -m pip install --upgrade pip\n"
     ]
    },
    {
     "name": "stdout",
     "output_type": "stream",
     "text": [
      "\n",
      "  Downloading matplotlib-3.8.0-cp310-cp310-win_amd64.whl (7.6 MB)\n",
      "     ---------------------------------------- 0.0/7.6 MB ? eta -:--:--\n",
      "     ---------------------------------------- 0.0/7.6 MB 1.4 MB/s eta 0:00:06\n",
      "     ---------------------------------------- 0.1/7.6 MB 1.3 MB/s eta 0:00:06\n",
      "      --------------------------------------- 0.1/7.6 MB 1.4 MB/s eta 0:00:06\n",
      "     - -------------------------------------- 0.2/7.6 MB 1.4 MB/s eta 0:00:06\n",
      "     - -------------------------------------- 0.3/7.6 MB 1.3 MB/s eta 0:00:06\n",
      "     - -------------------------------------- 0.4/7.6 MB 1.4 MB/s eta 0:00:06\n",
      "     -- ------------------------------------- 0.5/7.6 MB 1.6 MB/s eta 0:00:05\n",
      "     -- ------------------------------------- 0.6/7.6 MB 1.7 MB/s eta 0:00:05\n",
      "     --- ------------------------------------ 0.7/7.6 MB 1.8 MB/s eta 0:00:04\n",
      "     ---- ----------------------------------- 0.8/7.6 MB 1.8 MB/s eta 0:00:04\n",
      "     ---- ----------------------------------- 1.0/7.6 MB 1.9 MB/s eta 0:00:04\n",
      "     ------ --------------------------------- 1.2/7.6 MB 2.1 MB/s eta 0:00:04\n",
      "     ------ --------------------------------- 1.3/7.6 MB 2.1 MB/s eta 0:00:04\n",
      "     ------- -------------------------------- 1.5/7.6 MB 2.3 MB/s eta 0:00:03\n",
      "     -------- ------------------------------- 1.6/7.6 MB 2.3 MB/s eta 0:00:03\n",
      "     --------- ------------------------------ 1.7/7.6 MB 2.4 MB/s eta 0:00:03\n",
      "     --------- ------------------------------ 1.8/7.6 MB 2.3 MB/s eta 0:00:03\n",
      "     ---------- ----------------------------- 2.0/7.6 MB 2.4 MB/s eta 0:00:03\n",
      "     ----------- ---------------------------- 2.1/7.6 MB 2.5 MB/s eta 0:00:03\n",
      "     ----------- ---------------------------- 2.2/7.6 MB 2.4 MB/s eta 0:00:03\n",
      "     ----------- ---------------------------- 2.3/7.6 MB 2.4 MB/s eta 0:00:03\n",
      "     ------------ --------------------------- 2.4/7.6 MB 2.4 MB/s eta 0:00:03\n",
      "     ------------- -------------------------- 2.6/7.6 MB 2.4 MB/s eta 0:00:03\n",
      "     -------------- ------------------------- 2.7/7.6 MB 2.5 MB/s eta 0:00:02\n",
      "     -------------- ------------------------- 2.8/7.6 MB 2.4 MB/s eta 0:00:02\n",
      "     --------------- ------------------------ 3.0/7.6 MB 2.5 MB/s eta 0:00:02\n",
      "     ---------------- ----------------------- 3.1/7.6 MB 2.5 MB/s eta 0:00:02\n",
      "     ---------------- ----------------------- 3.1/7.6 MB 2.4 MB/s eta 0:00:02\n",
      "     ----------------- ---------------------- 3.3/7.6 MB 2.4 MB/s eta 0:00:02\n",
      "     ----------------- ---------------------- 3.3/7.6 MB 2.4 MB/s eta 0:00:02\n",
      "     ------------------ --------------------- 3.5/7.6 MB 2.4 MB/s eta 0:00:02\n",
      "     ------------------- -------------------- 3.7/7.6 MB 2.5 MB/s eta 0:00:02\n",
      "     ------------------- -------------------- 3.7/7.6 MB 2.5 MB/s eta 0:00:02\n",
      "     -------------------- ------------------- 3.8/7.6 MB 2.4 MB/s eta 0:00:02\n",
      "     -------------------- ------------------- 4.0/7.6 MB 2.5 MB/s eta 0:00:02\n",
      "     --------------------- ------------------ 4.1/7.6 MB 2.4 MB/s eta 0:00:02\n",
      "     --------------------- ------------------ 4.2/7.6 MB 2.4 MB/s eta 0:00:02\n",
      "     ---------------------- ----------------- 4.2/7.6 MB 2.4 MB/s eta 0:00:02\n",
      "     ---------------------- ----------------- 4.3/7.6 MB 2.4 MB/s eta 0:00:02\n",
      "     ---------------------- ----------------- 4.3/7.6 MB 2.3 MB/s eta 0:00:02\n",
      "     ----------------------- ---------------- 4.4/7.6 MB 2.3 MB/s eta 0:00:02\n",
      "     ------------------------ --------------- 4.7/7.6 MB 2.4 MB/s eta 0:00:02\n",
      "     ------------------------ --------------- 4.8/7.6 MB 2.4 MB/s eta 0:00:02\n",
      "     ------------------------- -------------- 4.9/7.6 MB 2.4 MB/s eta 0:00:02\n",
      "     -------------------------- ------------- 5.0/7.6 MB 2.4 MB/s eta 0:00:02\n",
      "     -------------------------- ------------- 5.1/7.6 MB 2.4 MB/s eta 0:00:02\n",
      "     -------------------------- ------------- 5.1/7.6 MB 2.4 MB/s eta 0:00:02\n",
      "     --------------------------- ------------ 5.3/7.6 MB 2.3 MB/s eta 0:00:02\n",
      "     ---------------------------- ----------- 5.4/7.6 MB 2.4 MB/s eta 0:00:01\n",
      "     ---------------------------- ----------- 5.4/7.6 MB 2.4 MB/s eta 0:00:01\n",
      "     ---------------------------- ----------- 5.4/7.6 MB 2.4 MB/s eta 0:00:01\n",
      "     ---------------------------- ----------- 5.4/7.6 MB 2.2 MB/s eta 0:00:01\n",
      "     ---------------------------- ----------- 5.5/7.6 MB 2.2 MB/s eta 0:00:01\n",
      "     ----------------------------- ---------- 5.6/7.6 MB 2.2 MB/s eta 0:00:01\n",
      "     ----------------------------- ---------- 5.6/7.6 MB 2.2 MB/s eta 0:00:01\n",
      "     ----------------------------- ---------- 5.7/7.6 MB 2.2 MB/s eta 0:00:01\n",
      "     ------------------------------- -------- 6.0/7.6 MB 2.2 MB/s eta 0:00:01\n",
      "     -------------------------------- ------- 6.2/7.6 MB 2.3 MB/s eta 0:00:01\n",
      "     -------------------------------- ------- 6.2/7.6 MB 2.2 MB/s eta 0:00:01\n",
      "     --------------------------------- ------ 6.3/7.6 MB 2.2 MB/s eta 0:00:01\n",
      "     --------------------------------- ------ 6.4/7.6 MB 2.2 MB/s eta 0:00:01\n",
      "     --------------------------------- ------ 6.4/7.6 MB 2.2 MB/s eta 0:00:01\n",
      "     --------------------------------- ------ 6.4/7.6 MB 2.2 MB/s eta 0:00:01\n",
      "     ---------------------------------- ----- 6.6/7.6 MB 2.2 MB/s eta 0:00:01\n",
      "     ---------------------------------- ----- 6.6/7.6 MB 2.2 MB/s eta 0:00:01\n",
      "     ----------------------------------- ---- 6.8/7.6 MB 2.2 MB/s eta 0:00:01\n",
      "     ----------------------------------- ---- 6.8/7.6 MB 2.2 MB/s eta 0:00:01\n",
      "     ------------------------------------ --- 6.9/7.6 MB 2.2 MB/s eta 0:00:01\n",
      "     ------------------------------------- -- 7.1/7.6 MB 2.2 MB/s eta 0:00:01\n",
      "     -------------------------------------- - 7.3/7.6 MB 2.2 MB/s eta 0:00:01\n",
      "     -------------------------------------- - 7.4/7.6 MB 2.3 MB/s eta 0:00:01\n",
      "     ---------------------------------------  7.5/7.6 MB 2.2 MB/s eta 0:00:01\n",
      "     ---------------------------------------  7.5/7.6 MB 2.2 MB/s eta 0:00:01\n",
      "     ---------------------------------------- 7.6/7.6 MB 2.2 MB/s eta 0:00:00\n",
      "Requirement already satisfied: python-dateutil>=2.7 in c:\\users\\rodri\\onedrive\\imágenes\\documentos\\infotec\\segundo trimestre\\aprendizaje computacional\\unidad 5 (reducción dimensional)\\venv\\lib\\site-packages (from matplotlib) (2.8.2)\n",
      "Collecting contourpy>=1.0.1\n",
      "  Downloading contourpy-1.1.1-cp310-cp310-win_amd64.whl (477 kB)\n",
      "     ---------------------------------------- 0.0/478.0 kB ? eta -:--:--\n",
      "     -- ---------------------------------- 30.7/478.0 kB 640.0 kB/s eta 0:00:01\n",
      "     ------------------------- ------------ 317.4/478.0 kB 3.9 MB/s eta 0:00:01\n",
      "     -------------------------------------- 478.0/478.0 kB 3.7 MB/s eta 0:00:00\n",
      "Collecting pyparsing>=2.3.1\n",
      "  Downloading pyparsing-3.1.1-py3-none-any.whl (103 kB)\n",
      "     ---------------------------------------- 0.0/103.1 kB ? eta -:--:--\n",
      "     -------------------------------------- 103.1/103.1 kB 3.0 MB/s eta 0:00:00\n",
      "Requirement already satisfied: packaging>=20.0 in c:\\users\\rodri\\onedrive\\imágenes\\documentos\\infotec\\segundo trimestre\\aprendizaje computacional\\unidad 5 (reducción dimensional)\\venv\\lib\\site-packages (from matplotlib) (23.1)\n",
      "Collecting pillow>=6.2.0\n",
      "  Downloading Pillow-10.0.1-cp310-cp310-win_amd64.whl (2.5 MB)\n",
      "     ---------------------------------------- 0.0/2.5 MB ? eta -:--:--\n",
      "     -- ------------------------------------- 0.2/2.5 MB 4.5 MB/s eta 0:00:01\n",
      "     ------- -------------------------------- 0.5/2.5 MB 6.0 MB/s eta 0:00:01\n",
      "     ---------- ----------------------------- 0.7/2.5 MB 5.2 MB/s eta 0:00:01\n",
      "     ------------- -------------------------- 0.8/2.5 MB 5.2 MB/s eta 0:00:01\n",
      "     ----------------- ---------------------- 1.1/2.5 MB 4.9 MB/s eta 0:00:01\n",
      "     -------------------- ------------------- 1.3/2.5 MB 4.9 MB/s eta 0:00:01\n",
      "     ------------------------- -------------- 1.6/2.5 MB 5.0 MB/s eta 0:00:01\n",
      "     ------------------------------ --------- 1.9/2.5 MB 5.2 MB/s eta 0:00:01\n",
      "     --------------------------------- ------ 2.1/2.5 MB 5.2 MB/s eta 0:00:01\n",
      "     -------------------------------------- - 2.4/2.5 MB 5.3 MB/s eta 0:00:01\n",
      "     ---------------------------------------- 2.5/2.5 MB 5.2 MB/s eta 0:00:00\n",
      "Collecting cycler>=0.10\n",
      "  Using cached cycler-0.11.0-py3-none-any.whl (6.4 kB)\n",
      "Requirement already satisfied: numpy<2,>=1.21 in c:\\users\\rodri\\onedrive\\imágenes\\documentos\\infotec\\segundo trimestre\\aprendizaje computacional\\unidad 5 (reducción dimensional)\\venv\\lib\\site-packages (from matplotlib) (1.26.0)\n",
      "Collecting fonttools>=4.22.0\n",
      "  Downloading fonttools-4.42.1-cp310-cp310-win_amd64.whl (2.1 MB)\n",
      "     ---------------------------------------- 0.0/2.1 MB ? eta -:--:--\n",
      "     --- ------------------------------------ 0.2/2.1 MB 5.9 MB/s eta 0:00:01\n",
      "     -------- ------------------------------- 0.5/2.1 MB 4.7 MB/s eta 0:00:01\n",
      "     ------------ --------------------------- 0.6/2.1 MB 4.5 MB/s eta 0:00:01\n",
      "     ------------------ --------------------- 1.0/2.1 MB 5.0 MB/s eta 0:00:01\n",
      "     --------------------- ------------------ 1.1/2.1 MB 5.1 MB/s eta 0:00:01\n",
      "     -------------------------- ------------- 1.4/2.1 MB 4.9 MB/s eta 0:00:01\n",
      "     ------------------------------- -------- 1.7/2.1 MB 5.3 MB/s eta 0:00:01\n",
      "     ---------------------------------- ----- 1.8/2.1 MB 4.9 MB/s eta 0:00:01\n",
      "     ---------------------------------------  2.1/2.1 MB 4.9 MB/s eta 0:00:01\n",
      "     ---------------------------------------- 2.1/2.1 MB 4.8 MB/s eta 0:00:00\n",
      "Collecting kiwisolver>=1.0.1\n",
      "  Downloading kiwisolver-1.4.5-cp310-cp310-win_amd64.whl (56 kB)\n",
      "     ---------------------------------------- 0.0/56.1 kB ? eta -:--:--\n",
      "     ---------------------------------------- 56.1/56.1 kB 1.4 MB/s eta 0:00:00\n",
      "Requirement already satisfied: six>=1.5 in c:\\users\\rodri\\onedrive\\imágenes\\documentos\\infotec\\segundo trimestre\\aprendizaje computacional\\unidad 5 (reducción dimensional)\\venv\\lib\\site-packages (from python-dateutil>=2.7->matplotlib) (1.16.0)\n",
      "Installing collected packages: pyparsing, pillow, kiwisolver, fonttools, cycler, contourpy, matplotlib\n",
      "Successfully installed contourpy-1.1.1 cycler-0.11.0 fonttools-4.42.1 kiwisolver-1.4.5 matplotlib-3.8.0 pillow-10.0.1 pyparsing-3.1.1\n",
      "Collecting seaborn\n",
      "  Using cached seaborn-0.12.2-py3-none-any.whl (293 kB)\n",
      "Requirement already satisfied: matplotlib!=3.6.1,>=3.1 in c:\\users\\rodri\\onedrive\\imágenes\\documentos\\infotec\\segundo trimestre\\aprendizaje computacional\\unidad 5 (reducción dimensional)\\venv\\lib\\site-packages (from seaborn) (3.8.0)\n",
      "Requirement already satisfied: numpy!=1.24.0,>=1.17 in c:\\users\\rodri\\onedrive\\imágenes\\documentos\\infotec\\segundo trimestre\\aprendizaje computacional\\unidad 5 (reducción dimensional)\\venv\\lib\\site-packages (from seaborn) (1.26.0)\n",
      "Requirement already satisfied: pandas>=0.25 in c:\\users\\rodri\\onedrive\\imágenes\\documentos\\infotec\\segundo trimestre\\aprendizaje computacional\\unidad 5 (reducción dimensional)\\venv\\lib\\site-packages (from seaborn) (2.1.1)\n",
      "Requirement already satisfied: packaging>=20.0 in c:\\users\\rodri\\onedrive\\imágenes\\documentos\\infotec\\segundo trimestre\\aprendizaje computacional\\unidad 5 (reducción dimensional)\\venv\\lib\\site-packages (from matplotlib!=3.6.1,>=3.1->seaborn) (23.1)\n",
      "Requirement already satisfied: fonttools>=4.22.0 in c:\\users\\rodri\\onedrive\\imágenes\\documentos\\infotec\\segundo trimestre\\aprendizaje computacional\\unidad 5 (reducción dimensional)\\venv\\lib\\site-packages (from matplotlib!=3.6.1,>=3.1->seaborn) (4.42.1)\n",
      "Requirement already satisfied: pyparsing>=2.3.1 in c:\\users\\rodri\\onedrive\\imágenes\\documentos\\infotec\\segundo trimestre\\aprendizaje computacional\\unidad 5 (reducción dimensional)\\venv\\lib\\site-packages (from matplotlib!=3.6.1,>=3.1->seaborn) (3.1.1)\n",
      "Requirement already satisfied: pillow>=6.2.0 in c:\\users\\rodri\\onedrive\\imágenes\\documentos\\infotec\\segundo trimestre\\aprendizaje computacional\\unidad 5 (reducción dimensional)\\venv\\lib\\site-packages (from matplotlib!=3.6.1,>=3.1->seaborn) (10.0.1)\n",
      "Requirement already satisfied: cycler>=0.10 in c:\\users\\rodri\\onedrive\\imágenes\\documentos\\infotec\\segundo trimestre\\aprendizaje computacional\\unidad 5 (reducción dimensional)\\venv\\lib\\site-packages (from matplotlib!=3.6.1,>=3.1->seaborn) (0.11.0)\n",
      "Requirement already satisfied: kiwisolver>=1.0.1 in c:\\users\\rodri\\onedrive\\imágenes\\documentos\\infotec\\segundo trimestre\\aprendizaje computacional\\unidad 5 (reducción dimensional)\\venv\\lib\\site-packages (from matplotlib!=3.6.1,>=3.1->seaborn) (1.4.5)\n",
      "Requirement already satisfied: python-dateutil>=2.7 in c:\\users\\rodri\\onedrive\\imágenes\\documentos\\infotec\\segundo trimestre\\aprendizaje computacional\\unidad 5 (reducción dimensional)\\venv\\lib\\site-packages (from matplotlib!=3.6.1,>=3.1->seaborn) (2.8.2)\n",
      "Requirement already satisfied: contourpy>=1.0.1 in c:\\users\\rodri\\onedrive\\imágenes\\documentos\\infotec\\segundo trimestre\\aprendizaje computacional\\unidad 5 (reducción dimensional)\\venv\\lib\\site-packages (from matplotlib!=3.6.1,>=3.1->seaborn) (1.1.1)\n",
      "Requirement already satisfied: pytz>=2020.1 in c:\\users\\rodri\\onedrive\\imágenes\\documentos\\infotec\\segundo trimestre\\aprendizaje computacional\\unidad 5 (reducción dimensional)\\venv\\lib\\site-packages (from pandas>=0.25->seaborn) (2023.3.post1)\n",
      "Requirement already satisfied: tzdata>=2022.1 in c:\\users\\rodri\\onedrive\\imágenes\\documentos\\infotec\\segundo trimestre\\aprendizaje computacional\\unidad 5 (reducción dimensional)\\venv\\lib\\site-packages (from pandas>=0.25->seaborn) (2023.3)\n",
      "Requirement already satisfied: six>=1.5 in c:\\users\\rodri\\onedrive\\imágenes\\documentos\\infotec\\segundo trimestre\\aprendizaje computacional\\unidad 5 (reducción dimensional)\\venv\\lib\\site-packages (from python-dateutil>=2.7->matplotlib!=3.6.1,>=3.1->seaborn) (1.16.0)\n",
      "Installing collected packages: seaborn\n",
      "Successfully installed seaborn-0.12.2\n"
     ]
    },
    {
     "name": "stderr",
     "output_type": "stream",
     "text": [
      "\n",
      "[notice] A new release of pip is available: 23.0.1 -> 23.2.1\n",
      "[notice] To update, run: python.exe -m pip install --upgrade pip\n"
     ]
    }
   ],
   "source": [
    "!pip install pandas\n",
    "!pip install matplotlib\n",
    "!pip install seaborn"
   ]
  },
  {
   "cell_type": "code",
   "execution_count": 7,
   "id": "31422ab5-24e6-413d-a0f5-94abd1395e42",
   "metadata": {},
   "outputs": [],
   "source": [
    "# Dependencias\n",
    "from scipy.stats import multivariate_normal, norm, kruskal\n",
    "from sklearn.datasets import load_diabetes, load_breast_cancer, load_iris\n",
    "from sklearn.feature_selection import f_regression, SelectKBest, SequentialFeatureSelector\n",
    "from sklearn.model_selection import train_test_split, KFold\n",
    "from sklearn.metrics import recall_score, make_scorer\n",
    "from sklearn.naive_bayes import GaussianNB\n",
    "from sklearn import decomposition\n",
    "from EvoMSA.model import GaussianBayes\n",
    "import numpy as np\n",
    "import pandas as pd\n",
    "from matplotlib import pylab as plt\n",
    "import seaborn as sns\n",
    "sns.set_theme()"
   ]
  },
  {
   "cell_type": "markdown",
   "id": "0f22fc54-f31a-4149-ad0f-794d04e56b98",
   "metadata": {},
   "source": [
    "# Se utiliza problema sintético de tres clases para describir el algoritmo de selección. \n",
    "Se trata de tres distribuciones gaussianas donde se geeneran tres muestras de 1000 elementos."
   ]
  },
  {
   "cell_type": "code",
   "execution_count": 8,
   "id": "5b8e8e81-3d8e-495a-861f-e476d0adeb09",
   "metadata": {},
   "outputs": [],
   "source": [
    "p1 = multivariate_normal(mean=[5, 5], cov=[[4, 0], [0, 2]])\n",
    "p2 = multivariate_normal(mean=[1.5, -1.5], cov=[[2, 1], [1, 3]])\n",
    "p3 = multivariate_normal(mean=[12.5, -3.5], cov=[[2, 3], [3, 7]])"
   ]
  },
  {
   "cell_type": "code",
   "execution_count": 9,
   "id": "0320341f-7b07-40e1-b46e-82717f55e720",
   "metadata": {},
   "outputs": [],
   "source": [
    "X_1 = p1.rvs(size=1000)\n",
    "X_2 = p2.rvs(size=1000)\n",
    "X_3 = p3.rvs(size=1000)"
   ]
  },
  {
   "cell_type": "code",
   "execution_count": 10,
   "id": "426076cf-e901-4c7b-a59c-08f4fa3ca498",
   "metadata": {},
   "outputs": [
    {
     "data": {
      "text/plain": [
       "(1000, 2)"
      ]
     },
     "execution_count": 10,
     "metadata": {},
     "output_type": "execute_result"
    }
   ],
   "source": [
    "X_1.shape"
   ]
  },
  {
   "cell_type": "code",
   "execution_count": 11,
   "id": "c0daed24-a6e7-497e-a477-f1704de4046e",
   "metadata": {},
   "outputs": [
    {
     "data": {
      "text/plain": [
       "array(['a', 'a', 'a', ..., 'c', 'c', 'c'], dtype='<U1')"
      ]
     },
     "execution_count": 11,
     "metadata": {},
     "output_type": "execute_result"
    }
   ],
   "source": [
    "D = np.concatenate((X_1, X_2, X_3), axis = 0)\n",
    "y = np.array(['a']*X_1.shape[0] + ['b']*X_2.shape[0] + ['c']*X_3.shape[0])\n",
    "y"
   ]
  },
  {
   "cell_type": "markdown",
   "id": "d3aa9ab1-656d-4f46-ad05-701dcfc49c0a",
   "metadata": {},
   "source": [
    "### Se incluye una variable aleatoria que no tiene relación con la clase con media 2 y varianza 3."
   ]
  },
  {
   "cell_type": "code",
   "execution_count": 12,
   "id": "ffd9eba2-8182-4059-9395-2ddfda86129b",
   "metadata": {},
   "outputs": [
    {
     "data": {
      "text/plain": [
       "(3000, 3)"
      ]
     },
     "execution_count": 12,
     "metadata": {},
     "output_type": "execute_result"
    }
   ],
   "source": [
    "N = norm.rvs(loc = 2, scale = 3, size = 3000)\n",
    "D = np.concatenate((D, np.atleast_2d(N).T), axis = 1)\n",
    "D.shape"
   ]
  },
  {
   "cell_type": "markdown",
   "id": "b244e970-1ea2-4f49-ac28-65bd3cdc41ef",
   "metadata": {},
   "source": [
    "El objetivo es encontrar la variable que no está relacionada con la salida. Una manera de realizar esto es imaginar que si la media en las diferentes variables es la misma en todas las clases entonces esa variable no contribuye a discriminar la clase. En la sección Estimación de Parámetros se presentó el procedimiento para obtener las medias que definen P(X∣Y)  para cada clase. El siguiente código muestra el procedimiento para calcular las medías que son μ1=[4.9694, 5.0407,1.9354]⊺, μ2=[1.5279,−1.4644,2.0522]\n"
   ]
  },
  {
   "cell_type": "code",
   "execution_count": 13,
   "id": "73b447a2-3e2a-493b-868c-4e33c1db92d9",
   "metadata": {},
   "outputs": [
    {
     "data": {
      "text/plain": [
       "[array([4.90812947, 4.97728675, 1.88689991]),\n",
       " array([ 1.55054182, -1.43086155,  1.98238932]),\n",
       " array([12.58618792, -3.34751449,  2.03049336])]"
      ]
     },
     "execution_count": 13,
     "metadata": {},
     "output_type": "execute_result"
    }
   ],
   "source": [
    "labels = np.unique(y)\n",
    "[np.mean(D[y==i], axis=0) for i in labels]"
   ]
  },
  {
   "cell_type": "code",
   "execution_count": 14,
   "id": "ad062ea1-3597-48e9-aa15-140ea614d708",
   "metadata": {},
   "outputs": [
    {
     "data": {
      "text/plain": [
       "array(['a', 'b', 'c'], dtype='<U1')"
      ]
     },
     "execution_count": 14,
     "metadata": {},
     "output_type": "execute_result"
    }
   ],
   "source": [
    "labels"
   ]
  },
  {
   "cell_type": "markdown",
   "id": "e33ce1e0-79c9-4886-be52-1af59e99bb16",
   "metadata": {},
   "source": [
    "Si se puede suponer que los datos provienen de una Distribución Gausiana entonces la prueba a realizar es ANOVA, en caso contrario se puede utilizar su equivalente método no paramétrico como es la prueba Kruskal-Wallis. Considerando que de manera general se desconoce la distribución que genera los datos, entonces se presenta el uso de la segunda prueba.\n",
    "\n",
    "La hipótesis nula en KW es que las muestras provienen de la misma distribución. \n",
    "Los valores p obtenidos son: [0.0,0.0,0.5938] lo cual indica que para las primeras dos variables la hipótesis nula se puede rechazar y por el otro lado la hipótesis nula es factible para la tercera variable con un valor p=0.5938\n"
   ]
  },
  {
   "cell_type": "code",
   "execution_count": 15,
   "id": "69e22c2f-9ae8-46e8-b86e-9514222482f6",
   "metadata": {},
   "outputs": [
    {
     "data": {
      "text/plain": [
       "[0.0, 0.0, 0.7174061703276866]"
      ]
     },
     "execution_count": 15,
     "metadata": {},
     "output_type": "execute_result"
    }
   ],
   "source": [
    "res = [kruskal(*[D[y==l, i] for l in labels]).pvalue\n",
    "       for i in range(D.shape[1])]\n",
    "\n",
    "res"
   ]
  },
  {
   "cell_type": "markdown",
   "id": "2b31ca87-9d4c-4bf8-b152-ed816af6c936",
   "metadata": {},
   "source": [
    "F es equivalente a Kruskal-Wallis en regresión. \n",
    "\n",
    "Ho: el coeficiente obtenido en la regresión lineal entre las variables independientes y dependiente es cero. "
   ]
  },
  {
   "cell_type": "code",
   "execution_count": 16,
   "id": "95912990-c5b8-4b80-a814-25d401c0eb37",
   "metadata": {},
   "outputs": [],
   "source": [
    "X, y = load_diabetes(return_X_y=True)\n",
    "f_statistics, p_values = f_regression(X, y)"
   ]
  },
  {
   "cell_type": "code",
   "execution_count": 17,
   "id": "489817cf-391c-47a3-a290-b5efe3cc0dbb",
   "metadata": {},
   "outputs": [
    {
     "data": {
      "text/plain": [
       "(442, 10)"
      ]
     },
     "execution_count": 17,
     "metadata": {},
     "output_type": "execute_result"
    }
   ],
   "source": [
    "X.shape"
   ]
  },
  {
   "cell_type": "code",
   "execution_count": 18,
   "id": "55904902-1f12-41fb-a3dd-57d04c1d373c",
   "metadata": {},
   "outputs": [
    {
     "data": {
      "text/plain": [
       "(442,)"
      ]
     },
     "execution_count": 18,
     "metadata": {},
     "output_type": "execute_result"
    }
   ],
   "source": [
    "y.shape"
   ]
  },
  {
   "cell_type": "code",
   "execution_count": 19,
   "id": "674dbcb3-af00-4b94-b363-53ae56aeb407",
   "metadata": {},
   "outputs": [
    {
     "data": {
      "text/plain": [
       "array([ 16.10137401,   0.81742349, 230.65376449, 106.52013086,\n",
       "        20.71056745,  13.74607917,  81.23965868, 100.06926441,\n",
       "       207.27119362,  75.3996832 ])"
      ]
     },
     "execution_count": 19,
     "metadata": {},
     "output_type": "execute_result"
    }
   ],
   "source": [
    "f_statistics"
   ]
  },
  {
   "cell_type": "code",
   "execution_count": 20,
   "id": "ab9f4f8c-a93d-4eca-8104-387a1bf12d7a",
   "metadata": {},
   "outputs": [
    {
     "data": {
      "text/plain": [
       "array([0, 2, 3, 4, 5, 6, 7, 8, 9], dtype=int64)"
      ]
     },
     "execution_count": 20,
     "metadata": {},
     "output_type": "execute_result"
    }
   ],
   "source": [
    "sel = SelectKBest(score_func=f_regression, k=9).fit(X, y)\n",
    "sel.get_support(indices=True)"
   ]
  },
  {
   "cell_type": "markdown",
   "id": "576a80a7-95ca-4851-8dda-56003c6d403f",
   "metadata": {},
   "source": [
    "# Conjuntos de validación y validación cruzada\n",
    "\n",
    "Entonces para optimizar los parámetros del algoritmo se selecciona del conjunto de entrenamiento, i.e., T, el conjunto de validación, V. Este conjunto tiene la característica que T∩V∩G=∅  y T∪V∪G=D.\n",
    "\n",
    "Una manera de realizar estos es seleccionar primeramente el conjunto de prueba G\n",
    "y de los datos restantes generar los conjuntos de entrenamiento T  y validación V.\n",
    "\n",
    "Para ejemplificar esta idea se utiliza el ejemplo de Breast Cancer Wisconsin utilizando un Clasificador Bayesiano donde el hiperparámetro es si se utilizar un Bayesiano Ingenuo o se estima la matriz de covarianza."
   ]
  },
  {
   "cell_type": "code",
   "execution_count": null,
   "id": "5f3bc878-67eb-41b3-9eb9-468a03640ea2",
   "metadata": {},
   "outputs": [],
   "source": [
    "D, y = load_breast_cancer(return_X_y=True)\n"
   ]
  },
  {
   "cell_type": "code",
   "execution_count": null,
   "id": "d6b30dd5-aba5-47e5-bc50-b06759b690bd",
   "metadata": {},
   "outputs": [],
   "source": [
    "D.shape"
   ]
  },
  {
   "cell_type": "code",
   "execution_count": null,
   "id": "36f0bb81-0e2b-448a-a393-cfe21bc51ed7",
   "metadata": {},
   "outputs": [],
   "source": [
    "T, G, y_t, y_g = train_test_split(D, y, test_size=0.2)"
   ]
  },
  {
   "cell_type": "markdown",
   "id": "dec5c958-36f6-4624-967a-2b98e5bcbeb8",
   "metadata": {},
   "source": [
    "Los datos de entrenamiento y validación se generan de manera equivalente tal como se muestra en la siguiente instrucción. El conjunto de validación (V) se encuentra en la variable V y la variable dependiente en y_v."
   ]
  },
  {
   "cell_type": "code",
   "execution_count": null,
   "id": "843364fb-10e9-4659-a056-f6024cc631ed",
   "metadata": {},
   "outputs": [],
   "source": [
    "T, V, y_t, y_v = train_test_split(T, y_t, test_size=0.3)"
   ]
  },
  {
   "cell_type": "markdown",
   "id": "d9b8e884-8433-4b45-a06e-be16d929f74d",
   "metadata": {},
   "source": [
    "En este momento ya se tienen todos los elementos para medir el redimiento de cada hiperparámetro. Empezando por el clasificador con la matriz de covarianza completa. El recall en ambas clases es [0.9388,0.9886]."
   ]
  },
  {
   "cell_type": "code",
   "execution_count": null,
   "id": "eec79ac9-9c32-4616-a3dc-9c422fe6b89a",
   "metadata": {},
   "outputs": [],
   "source": [
    "gaussian = GaussianBayes().fit(T, y_t)\n",
    "hy_gaussian = gaussian.predict(V)\n",
    "recall_score(y_v, hy_gaussian, average=None)"
   ]
  },
  {
   "cell_type": "markdown",
   "id": "c46fdf97-10b6-4b6a-ad0a-a3d50a3afbc2",
   "metadata": {},
   "source": [
    "# Bayesiano ingenuo"
   ]
  },
  {
   "cell_type": "code",
   "execution_count": null,
   "id": "ffffcf72-4164-44e1-9e1b-1e00337a0d61",
   "metadata": {},
   "outputs": [],
   "source": [
    "ingenuo = GaussianBayes(naive=True).fit(T, y_t)\n",
    "hy_ingenuo = ingenuo.predict(V)\n",
    "recall_score(y_v, hy_ingenuo, average=None)"
   ]
  },
  {
   "cell_type": "markdown",
   "id": "9abb739c-2675-49d6-aab0-f395acf273b8",
   "metadata": {},
   "source": [
    "# AHora se utiliza tod el conjunto de datos de entrenamiento en bayes normal (toda la matriz de covarianza)"
   ]
  },
  {
   "cell_type": "code",
   "execution_count": null,
   "id": "0f6e339d-7188-4603-8fba-3cc72311b8c6",
   "metadata": {},
   "outputs": [],
   "source": [
    "gaussian = GaussianBayes().fit(np.concatenate((T, V)), np.concatenate((y_t, y_v)))\n",
    "hy_gaussian = gaussian.predict(G)\n",
    "recall_score(y_g, hy_gaussian, average=None)"
   ]
  },
  {
   "cell_type": "code",
   "execution_count": null,
   "id": "55e3f8f0-3a2b-44f4-9822-10ea007bcbc6",
   "metadata": {},
   "outputs": [],
   "source": [
    "# qué pasaría con un naive\n",
    "gaussian = GaussianBayes(naive=True).fit(np.concatenate((T, V)), np.concatenate((y_t, y_v)))\n",
    "hy_gaussian = gaussian.predict(G)\n",
    "recall_score(y_g, hy_gaussian, average=None)"
   ]
  },
  {
   "cell_type": "markdown",
   "id": "e31e285f-0211-4282-af92-96fbf80606f7",
   "metadata": {},
   "source": [
    "# K-fold cross validation\n",
    "La idea es entrenar y probar el rendimiento del algoritmo \n",
    "k\n",
    " veces usando las particiones en cada renglón. Es decir, la primera vez se usan los datos de la primera columna como el conjunto de validación, y el resto de columnas, \n",
    "[\n",
    "2\n",
    ",\n",
    "3\n",
    ",\n",
    "4\n",
    ",\n",
    "5\n",
    "], como conjunto de entrenamiento para estimar los parámetros del algoritmo. En la segunda iteración se usan los datos del segundo renglón donde se observa que los datos en la cuarta columna corresponden al conjunto de validación y los datos en las columnas [1,2,3,5] son usados como conjunto de prueba. Las iteraciones siguen hasta que todos los datos fueron utilizados en una ocasión como conjunto de validación."
   ]
  },
  {
   "cell_type": "code",
   "execution_count": null,
   "id": "0e84101e-6925-4ccb-8900-9efe3a305112",
   "metadata": {},
   "outputs": [],
   "source": [
    "T, G, y_t, y_g = train_test_split(D, y, test_size=0.2)"
   ]
  },
  {
   "cell_type": "code",
   "execution_count": null,
   "id": "3c74bf20-aaf6-4743-8964-93cd1e0edf86",
   "metadata": {},
   "outputs": [],
   "source": [
    "T.shape"
   ]
  },
  {
   "cell_type": "code",
   "execution_count": null,
   "id": "479942ae-8c91-4477-b3b5-44e82d6c9ac0",
   "metadata": {},
   "outputs": [],
   "source": [
    "G.shape"
   ]
  },
  {
   "cell_type": "markdown",
   "id": "3c665fb1-ae38-478d-afc5-61d016261029",
   "metadata": {},
   "source": [
    "La validación cruzada con k-iteraciones se puede realizar con la clase KFold de la siguiente manera. La primera línea crear una variable para guardar el rendimiento. En la segunda línea se inicializa el procedimiento indicando que los datos sean tomados al azar. Después se realiza el ciclo con las  k iteraciones, para cada iteración se genera un índice ts que indica cuales son los datos del conjunto de entrenamiento y vs que corresponde a los datos de validación. Se estiman los parámetros usando ts tal y como se observa en la cuarta línea. Habiendo estimado los parámetros se predicen los datos del conjunto de validación (5 línea), se mide el recall en todas las clases y se guarda en la lista perf. Al final se calcula la media de los k rendimientos medidos, teniendo un valor de [0.8943,0.9818]."
   ]
  },
  {
   "cell_type": "code",
   "execution_count": null,
   "id": "8ba1f45e-d024-4096-aac9-0b93cb2dfcee",
   "metadata": {},
   "outputs": [],
   "source": [
    "perf = []\n",
    "kfold = KFold(shuffle=True)\n",
    "for ts, vs in kfold.split(T):\n",
    "    gaussian = GaussianBayes().fit(T[ts], y_t[ts])\n",
    "    hy_gaussian = gaussian.predict(T[vs])\n",
    "    _ = recall_score(y_t[vs], hy_gaussian, average=None)    \n",
    "    perf.append(_)\n",
    "bayesiano = np.mean(perf, axis=0)\n",
    "bayesiano"
   ]
  },
  {
   "cell_type": "code",
   "execution_count": null,
   "id": "542ba425-c0cf-4dd6-9c43-722f82dbad77",
   "metadata": {},
   "outputs": [],
   "source": [
    "kfold"
   ]
  },
  {
   "cell_type": "code",
   "execution_count": null,
   "id": "70efb4e2-cf42-4d3a-886f-06eb452dca62",
   "metadata": {},
   "outputs": [],
   "source": [
    "perf = []\n",
    "kfold = KFold(shuffle=True)\n",
    "for ts, vs in kfold.split(T):\n",
    "    gaussian = GaussianBayes(naive=True).fit(T[ts], y_t[ts])\n",
    "    hy_gaussian = gaussian.predict(T[vs])\n",
    "    _ = recall_score(y_t[vs], hy_gaussian, average=None)    \n",
    "    perf.append(_)\n",
    "ingenuo = np.mean(perf, axis=0)\n",
    "ingenuo"
   ]
  },
  {
   "cell_type": "code",
   "execution_count": null,
   "id": "7f89d52f-6d37-4534-93c4-5ba274e59705",
   "metadata": {},
   "outputs": [],
   "source": [
    "pd.DataFrame({'Clasificador Bayesiano': bayesiano, 'Clasificador Bayesiano Ingenuo': ingenuo })"
   ]
  },
  {
   "cell_type": "markdown",
   "id": "f26bc537-7d22-469f-bc49-ddb7d87fe117",
   "metadata": {},
   "source": [
    "# Selección hacia adelante\n",
    "Un procedimiento que pone en el centro del proceso de selección al algoritmo de aprendizaje utilizado es Selección hacia Adelante y su complemento que sería Selección hacia Atrás. El algoritmo de selección hacia adelante es un procedimiento iterativo que selecciona una variable a la vez guiada por el rendimiento de esta variable cuando es usada en el algoritmo de aprendizaje. Al igual que los procedimientos anteriores este no modifica las características del problema, solamente selecciona las que se consideran relevantes.\n",
    "\n",
    "En selección hacia adelante y hacia atrás se inicia con el conjunto de entrenamiento \n",
    "T = {(xi,yi)}, con una función L que mide el rendimiento del algoritmo de aprendizaje H.\n",
    " La idea es ir seleccionando de manera iterativa aquellas variables que generan un modelo con mejores capacidades de generalización. Para medir la generalización del algoritmo se pueden realizar de diferentes maneras, una es mediante la división de \n",
    "X  en dos conjuntos: entrenamiento y validación; y la segunda manera corresponde a utilizar k-iteraciones de validación cruzada."
   ]
  },
  {
   "cell_type": "code",
   "execution_count": null,
   "id": "a5e73ab0-f23e-48a9-80b4-a432f87d1c16",
   "metadata": {},
   "outputs": [],
   "source": [
    "perf = []\n",
    "kfold = KFold(shuffle=True)\n",
    "for var in range(T.shape[1]):\n",
    "    T1 = T[:, np.array([var])]\n",
    "    perf_inner = []\n",
    "    for ts, vs in kfold.split(T1):\n",
    "        gaussian = GaussianNB().fit(T1[ts], y_t[ts])\n",
    "        hy_gaussian = gaussian.predict(T1[vs])\n",
    "        _ = recall_score(y_t[vs], hy_gaussian, average='macro')    \n",
    "        perf_inner.append(_)\n",
    "    perf.append(np.mean(perf_inner))"
   ]
  },
  {
   "cell_type": "code",
   "execution_count": null,
   "id": "f584f75a-ac7b-4269-9670-eef3822515af",
   "metadata": {},
   "outputs": [],
   "source": [
    "plt.plot(perf, marker='o', linestyle='-', color='skyblue')\n",
    "plt.grid(True, linestyle='--', alpha=0.6)"
   ]
  },
  {
   "cell_type": "code",
   "execution_count": null,
   "id": "8dd7bf3f-d298-4f3b-939c-148b9a0c636d",
   "metadata": {},
   "outputs": [],
   "source": [
    "sns.barplot(x=list(range(len(perf))), y=perf)\n",
    "plt.grid()\n",
    "plt.xlabel('Variable')\n",
    "plt.ylabel('Macro-Recall')"
   ]
  },
  {
   "cell_type": "markdown",
   "id": "6fc824cd-73f4-4a16-90df-a0a8af6962a6",
   "metadata": {},
   "source": [
    "# Implementación de la selección hacia adelante y hacia atrás\n",
    "\n",
    "https://scikit-learn.org/stable/modules/generated/sklearn.feature_selection.SequentialFeatureSelector.html#sklearn.feature_selection.SequentialFeatureSelector"
   ]
  },
  {
   "cell_type": "code",
   "execution_count": null,
   "id": "cde35f33-142e-43d3-97fd-747450630df3",
   "metadata": {},
   "outputs": [],
   "source": [
    "kfolds = list(KFold(shuffle=True).split(T))\n",
    "scoring = make_scorer(lambda y, hy: recall_score(y, hy, average='macro'))\n",
    "seq = SequentialFeatureSelector(estimator=GaussianNB(),\n",
    "                                scoring=scoring,\n",
    "                                n_features_to_select='auto',\n",
    "                                cv=kfolds).fit(T, y_t)"
   ]
  },
  {
   "cell_type": "code",
   "execution_count": null,
   "id": "4ec809c6-8cb4-4e19-b620-8523b6b655fe",
   "metadata": {},
   "outputs": [],
   "source": [
    "len(kfolds)"
   ]
  },
  {
   "cell_type": "code",
   "execution_count": null,
   "id": "3125bd8d-14aa-475a-8a0d-d9fbcbf511e1",
   "metadata": {},
   "outputs": [],
   "source": [
    "scoring"
   ]
  },
  {
   "cell_type": "code",
   "execution_count": null,
   "id": "914830a0-6d08-46f5-ae16-2d01a1b9e2df",
   "metadata": {},
   "outputs": [],
   "source": [
    "seq"
   ]
  },
  {
   "cell_type": "code",
   "execution_count": null,
   "id": "85ec2d61-194d-4849-aba1-ea60be319623",
   "metadata": {},
   "outputs": [],
   "source": [
    "mask = seq.get_support()\n",
    "mask"
   ]
  },
  {
   "cell_type": "code",
   "execution_count": null,
   "id": "b1603ea1-edae-42d7-aeec-1e7d2f942dd2",
   "metadata": {},
   "outputs": [],
   "source": [
    "variables_seleccionadas = [i for i, m in enumerate(mask, start=0) if m and 1 <= i <= 30]\n",
    "variables_seleccionadas"
   ]
  },
  {
   "cell_type": "code",
   "execution_count": null,
   "id": "6693b236-97f8-4692-94e9-8fbb12a9ad6d",
   "metadata": {},
   "outputs": [],
   "source": [
    "seq2 = SequentialFeatureSelector(estimator=GaussianNB(),\n",
    "                                direction= 'backward',\n",
    "                                scoring=scoring,\n",
    "                                n_features_to_select='auto',\n",
    "                                cv=kfolds).fit(T, y_t)"
   ]
  },
  {
   "cell_type": "code",
   "execution_count": null,
   "id": "cc4c697c-db8b-47c9-b783-ecdee88f924a",
   "metadata": {},
   "outputs": [],
   "source": [
    "mask2 = seq.get_support()\n",
    "mask2"
   ]
  },
  {
   "cell_type": "code",
   "execution_count": null,
   "id": "ec7b6f46-9023-4fd7-85fc-6c03ee924fcb",
   "metadata": {},
   "outputs": [],
   "source": [
    "variables_seleccionadas_bkw = [i for i, m in enumerate(mask2, start=0) if m and 1 <= i <= 30]\n",
    "variables_seleccionadas_bkw"
   ]
  },
  {
   "cell_type": "markdown",
   "id": "09db4b4c-9ce1-40c6-8156-68efa4d6ebdc",
   "metadata": {},
   "source": [
    "[1, 4, 8, 9, 11, 14, 16, 18, 19, 20, 21, 22, 24, 26] con el forward"
   ]
  },
  {
   "cell_type": "markdown",
   "id": "a1317d63-2a74-4028-888b-9feff527cc56",
   "metadata": {},
   "source": [
    "[0,2,3,6,7,10,12, 13, 20,22, 23, 26, 27] a mano, tendrá que ver con la voracidad del algortimo y el mínimo local?"
   ]
  },
  {
   "cell_type": "markdown",
   "id": "8de534be-f8f0-467b-9e2d-28c48d294a6f",
   "metadata": {},
   "source": [
    "# PCA"
   ]
  },
  {
   "cell_type": "code",
   "execution_count": null,
   "id": "5e304abc-7501-4a3f-bd8c-7d4753a84c98",
   "metadata": {},
   "outputs": [],
   "source": [
    "D, y = load_iris(return_X_y=True)\n"
   ]
  },
  {
   "cell_type": "code",
   "execution_count": null,
   "id": "cc6a0477-cd9c-4399-9d6d-fac496d45342",
   "metadata": {},
   "outputs": [],
   "source": [
    "D.shape"
   ]
  },
  {
   "cell_type": "code",
   "execution_count": null,
   "id": "ec8298e4-3788-4ea2-a519-7ef8f4ae03bf",
   "metadata": {},
   "outputs": [],
   "source": [
    "D"
   ]
  },
  {
   "cell_type": "code",
   "execution_count": null,
   "id": "e1697029-cefd-4b14-9a21-6af4c1602f46",
   "metadata": {},
   "outputs": [],
   "source": [
    "pca = decomposition.PCA(n_components=2).fit(D) #inicialización de clase\n",
    "Xn = pca.transform(D) #proyección"
   ]
  },
  {
   "cell_type": "code",
   "execution_count": null,
   "id": "2bf617f7-80e5-4cba-a3bb-7569c91ca6fe",
   "metadata": {},
   "outputs": [],
   "source": [
    "pca"
   ]
  },
  {
   "cell_type": "code",
   "execution_count": null,
   "id": "e2734c04-f6c4-433c-80a1-5a26412b6840",
   "metadata": {},
   "outputs": [],
   "source": [
    "Xn"
   ]
  },
  {
   "cell_type": "code",
   "execution_count": null,
   "id": "41af48d2-c7fc-4134-9eab-f33bfaa5cac7",
   "metadata": {},
   "outputs": [],
   "source": [
    "data = pd.DataFrame([dict(x=x, y=y, clase=c)\n",
    "                     for (x, y), c in zip(Xn, y)])\n",
    "sns.relplot(data, kind='scatter',\n",
    "            x='x', y='y', hue='clase')"
   ]
  },
  {
   "cell_type": "code",
   "execution_count": null,
   "id": "01442398-77b4-43be-80cd-808414d07ae5",
   "metadata": {},
   "outputs": [],
   "source": [
    "data"
   ]
  },
  {
   "cell_type": "code",
   "execution_count": null,
   "id": "49b41d83-6705-4e97-ad27-d48ca21e0d18",
   "metadata": {},
   "outputs": [],
   "source": [
    "error_naive"
   ]
  },
  {
   "cell_type": "code",
   "execution_count": null,
   "id": "607f34be-5d82-4bba-a977-2a5c5d5b6ccb",
   "metadata": {},
   "outputs": [],
   "source": [
    "diff = (y_g != hy_naive).mean() -  (y_g != hy_gaussian).mean()\n"
   ]
  },
  {
   "cell_type": "code",
   "execution_count": null,
   "id": "d8fdaeb0-974e-4828-8b91-862107d33e07",
   "metadata": {},
   "outputs": [],
   "source": [
    "S = np.random.randint(y_g.shape[0],\n",
    "                      size=(500, y_g.shape[0]))\n",
    "B = [(y_g[s] != hy_naive[s]).mean() -  (y_g[s] != hy_gaussian[s]).mean()\n",
    "     for s in S]\n",
    "se = np.std(B, axis=0)\n"
   ]
  },
  {
   "cell_type": "code",
   "execution_count": null,
   "id": "1477b290-389c-4a3a-8383-632be24fe054",
   "metadata": {},
   "outputs": [],
   "source": [
    "sns.displot(B, kde=True)\n",
    "\n"
   ]
  },
  {
   "cell_type": "code",
   "execution_count": null,
   "id": "f31889fc-5e41-4a80-8535-36f27a2c04a6",
   "metadata": {},
   "outputs": [],
   "source": [
    "dist = norm(loc=diff, scale=se)\n",
    "dist.cdf(0)"
   ]
  },
  {
   "cell_type": "code",
   "execution_count": null,
   "id": "7eaf711c-0144-493b-9fa3-a653e700ee5f",
   "metadata": {},
   "outputs": [],
   "source": [
    "import numpy as np\n",
    "T = np.loadtxt('delitos_train_data.csv', delimiter=',')\n",
    "y_t = np.loadtxt('delitos_train_label.csv', delimiter=',')\n",
    "G = np.loadtxt('delitos_test_data.csv', delimiter=',')\n",
    "y_g = np.loadtxt('delitos_test_label.csv', delimiter=',')"
   ]
  },
  {
   "cell_type": "code",
   "execution_count": null,
   "id": "a1ffde3d-525f-4613-b1e7-6e2659243798",
   "metadata": {},
   "outputs": [],
   "source": [
    "# Assuming you have a custom GaussianBayes classifier\n",
    "from your_custom_module import GaussianBayes\n",
    "\n",
    "# Create and train the GaussianBayes classifier with the naive parameter set to True\n",
    "naive_classifier = GaussianBayes(naive=True)\n",
    "naive_classifier.fit(T, y_t)\n",
    "\n",
    "# Make predictions on the test data\n",
    "y_pred = naive_classifier.predict(G)\n",
    "predicted_probs = naive_classifier.predict_proba(G)\n",
    "\n",
    "# Calculate cross-entropy (log loss)\n",
    "cross_entropy = log_loss(y_g, predicted_probs)\n",
    "print(\"Cross-Entropy (Log Loss):\", cross_entropy)\n",
    "\n",
    "# Calculate confusion matrix\n",
    "conf_matrix = confusion_matrix(y_g, y_pred)\n",
    "\n",
    "# Calculate recall, precision, and F1-score\n",
    "recall = recall_score(y_g, y_pred, average='weighted')\n",
    "precision = precision_score(y_g, y_pred, average='weighted')\n",
    "f1 = f1_score(y_g, y_pred, average='weighted')\n",
    "\n",
    "print(\"Confusion Matrix:\")\n",
    "print(conf_matrix)\n",
    "print(\"Recall:\", recall)\n",
    "print(\"Precision:\", precision)\n",
    "print(\"F1-Score:\", f1)\n",
    "\n"
   ]
  },
  {
   "cell_type": "code",
   "execution_count": null,
   "id": "232223f0-1331-4e67-b873-49435b3aeee0",
   "metadata": {},
   "outputs": [],
   "source": [
    "from EvoMSA.model import GaussianBayes\n",
    "from sklearn.model_selection import train_test_split\n",
    "from sklearn.metrics import log_loss, confusion_matrix, recall_score, precision_score, f1_score\n",
    "from sklearn.datasets import load_breast_cancer\n",
    "import numpy as np\n",
    "\n",
    "# Load a sample dataset for classification (Breast Cancer dataset)\n",
    "data = load_breast_cancer()\n",
    "X = data.data\n",
    "y = data.target\n",
    "\n",
    "# Split the data into training and testing sets\n",
    "X_train, X_test, y_train, y_test = train_test_split(X, y, test_size=0.2, random_state=42)\n",
    "\n",
    "# Create and train the GaussianBayes classifier with the naive parameter set to True\n",
    "naive_classifier = GaussianBayes(naive=True)\n",
    "naive_classifier.fit(X_train, y_train)\n",
    "\n",
    "# Make predictions on the test data\n",
    "y_pred = naive_classifier.predict(X_test)\n",
    "predicted_probs = naive_classifier.predict_proba(X_test)\n",
    "\n",
    "# Calculate cross-entropy (log loss)\n",
    "cross_entropy = log_loss(y_test, predicted_probs)\n",
    "print(\"Cross-Entropy (Log Loss):\", cross_entropy)\n",
    "\n",
    "# Calculate confusion matrix\n",
    "conf_matrix = confusion_matrix(y_test, y_pred)\n",
    "\n",
    "# Calculate recall, precision, and F1-score\n",
    "recall = recall_score(y_test, y_pred)\n",
    "precision = precision_score(y_test, y_pred)\n",
    "f1 = f1_score(y_test, y_pred)\n",
    "\n",
    "print(\"Confusion Matrix:\")\n",
    "print(conf_matrix)\n",
    "print(\"Recall:\", recall)\n",
    "print(\"Precision:\", precision)\n",
    "print(\"F1-Score:\", f1)\n"
   ]
  },
  {
   "cell_type": "code",
   "execution_count": 21,
   "id": "e3feb553-2370-43ce-a522-5f5cfa053ae5",
   "metadata": {},
   "outputs": [
    {
     "ename": "NameError",
     "evalue": "name 'T' is not defined",
     "output_type": "error",
     "traceback": [
      "\u001b[1;31m---------------------------------------------------------------------------\u001b[0m",
      "\u001b[1;31mNameError\u001b[0m                                 Traceback (most recent call last)",
      "Cell \u001b[1;32mIn[21], line 9\u001b[0m\n\u001b[0;32m      5\u001b[0m \u001b[38;5;66;03m# Assuming you have loaded your data as T (X_training), y_t (y_training), G (X_test), and y_g (y_test)\u001b[39;00m\n\u001b[0;32m      6\u001b[0m \n\u001b[0;32m      7\u001b[0m \u001b[38;5;66;03m# Create and train the GaussianBayes classifier with the naive parameter set to True\u001b[39;00m\n\u001b[0;32m      8\u001b[0m naive_classifier \u001b[38;5;241m=\u001b[39m GaussianBayes(naive\u001b[38;5;241m=\u001b[39m\u001b[38;5;28;01mTrue\u001b[39;00m)\n\u001b[1;32m----> 9\u001b[0m naive_classifier\u001b[38;5;241m.\u001b[39mfit(\u001b[43mT\u001b[49m, y_t)\n\u001b[0;32m     11\u001b[0m \u001b[38;5;66;03m# Make predictions on the test data\u001b[39;00m\n\u001b[0;32m     12\u001b[0m y_pred \u001b[38;5;241m=\u001b[39m naive_classifier\u001b[38;5;241m.\u001b[39mpredict(G)\n",
      "\u001b[1;31mNameError\u001b[0m: name 'T' is not defined"
     ]
    }
   ],
   "source": [
    "from EvoMSA.model import GaussianBayes\n",
    "import numpy as np\n",
    "from sklearn.metrics import log_loss, confusion_matrix, recall_score, precision_score, f1_score\n",
    "\n",
    "# Assuming you have loaded your data as T (X_training), y_t (y_training), G (X_test), and y_g (y_test)\n",
    "\n",
    "# Create and train the GaussianBayes classifier with the naive parameter set to True\n",
    "naive_classifier = GaussianBayes(naive=True)\n",
    "naive_classifier.fit(T, y_t)\n",
    "\n",
    "# Make predictions on the test data\n",
    "y_pred = naive_classifier.predict(G)\n",
    "predicted_probs = naive_classifier.predict_proba(G)\n",
    "\n",
    "# Calculate cross-entropy (log loss)\n",
    "cross_entropy = log_loss(y_g, predicted_probs)\n",
    "print(\"Cross-Entropy (Log Loss):\", cross_entropy)\n",
    "\n",
    "# Calculate confusion matrix\n",
    "conf_matrix = confusion_matrix(y_g, y_pred)\n",
    "\n",
    "# Calculate recall, precision, and F1-score\n",
    "recall = recall_score(y_g, y_pred, average='weighted')\n",
    "precision = precision_score(y_g, y_pred, average='weighted')\n",
    "f1 = f1_score(y_g, y_pred, average='weighted')\n",
    "\n",
    "print(\"Confusion Matrix:\")\n",
    "print(conf_matrix)\n",
    "print(\"Recall:\", recall)\n",
    "print(\"Precision:\", precision)\n",
    "print(\"F1-Score:\", f1)\n"
   ]
  },
  {
   "cell_type": "markdown",
   "id": "5ad07698-7b91-4b9f-bfbf-c82d11d5bef8",
   "metadata": {},
   "source": [
    "# PRUEBA"
   ]
  },
  {
   "cell_type": "markdown",
   "id": "f0445dd2-33a9-4d3a-825b-5a5d3a46a921",
   "metadata": {},
   "source": [
    "Escoger el número de variables seleccionadas, utilizando la estadística de kruskal, en el conjunto de delitos, usando su conjunto de entrenamiento.\n",
    "\n",
    "El conjunto de delitos se puede descargar de la siguiente liga https://github.com/INGEOTEC/AprendizajeComputacional/releases/download/v2.0/delitos.zip\n",
    "\n",
    "Para leer los datos puede ser util las siguientes instrucciones."
   ]
  },
  {
   "cell_type": "code",
   "execution_count": 22,
   "id": "0fef4c3d-5cd1-4812-8931-a35c5606770f",
   "metadata": {},
   "outputs": [],
   "source": [
    "T = np.loadtxt('delitos_train_data.csv', delimiter=',')\n",
    "y_t = np.loadtxt('delitos_train_label.csv', delimiter=',')"
   ]
  },
  {
   "cell_type": "code",
   "execution_count": 31,
   "id": "eb71819f-ecfd-4109-901d-3c3911991a58",
   "metadata": {},
   "outputs": [
    {
     "data": {
      "text/plain": [
       "(1440, 1744)"
      ]
     },
     "execution_count": 31,
     "metadata": {},
     "output_type": "execute_result"
    }
   ],
   "source": [
    "T.shape"
   ]
  },
  {
   "cell_type": "code",
   "execution_count": 30,
   "id": "985ad633-14f2-4910-9842-93bd8dfa823f",
   "metadata": {},
   "outputs": [
    {
     "data": {
      "text/plain": [
       "array([0., 1.])"
      ]
     },
     "execution_count": 30,
     "metadata": {},
     "output_type": "execute_result"
    }
   ],
   "source": [
    "np.unique(y_t)"
   ]
  },
  {
   "cell_type": "code",
   "execution_count": 32,
   "id": "57594838-a013-466f-89f4-224fb9c4032d",
   "metadata": {},
   "outputs": [
    {
     "data": {
      "text/plain": [
       "[array([-0.0059585 , -0.02123151, -0.01948778, ..., -0.01739203,\n",
       "        -0.02865134, -0.03056604]),\n",
       " array([-0.00820332, -0.02291462, -0.0211615 , ..., -0.02138628,\n",
       "        -0.03310868, -0.03636104])]"
      ]
     },
     "execution_count": 32,
     "metadata": {},
     "output_type": "execute_result"
    }
   ],
   "source": [
    "labels = np.unique(y_t)\n",
    "[np.mean(T[y_t==i], axis=0) for i in labels]"
   ]
  },
  {
   "cell_type": "code",
   "execution_count": 33,
   "id": "2ffd704a-7ecd-4c29-9585-c4af87615bf7",
   "metadata": {},
   "outputs": [],
   "source": [
    "res = [kruskal(*[T[y_t==l, i] for l in labels]).pvalue\n",
    "       for i in range(T.shape[1])]"
   ]
  },
  {
   "cell_type": "code",
   "execution_count": 36,
   "id": "40128caa-ba62-46e4-80fc-b784c3dc889e",
   "metadata": {},
   "outputs": [
    {
     "data": {
      "text/plain": [
       "[0.002455442675677453,\n",
       " 0.057064808154885314,\n",
       " 0.036307722501102424,\n",
       " 0.003007083426679422,\n",
       " 0.006994756899056409,\n",
       " 0.030460194597405753,\n",
       " 8.593738451736462e-06,\n",
       " 0.0006025247925134137,\n",
       " 0.0012786406216368693,\n",
       " 0.0001236241848024989,\n",
       " 0.00040324465496617714,\n",
       " 0.002412296150960004,\n",
       " 1.5728339630772982e-07,\n",
       " 0.041558104024769595,\n",
       " 0.0003925549130166696,\n",
       " 0.0008790749832485675,\n",
       " 0.015979538058293014,\n",
       " 2.7991506653924233e-07,\n",
       " 1.7652029493635364e-10,\n",
       " 2.3043463722495768e-07,\n",
       " 4.3536102269661193e-23,\n",
       " 1.8031540797301777e-05,\n",
       " 1.8374733931750202e-06,\n",
       " 0.0010131957607162063,\n",
       " 0.0017521643148553933,\n",
       " 0.0025269133441559667,\n",
       " 0.00030230774821167174,\n",
       " 1.1161767178677637e-08,\n",
       " 3.2401720392069025e-18,\n",
       " 0.015752930572313716,\n",
       " 0.022526783119012014,\n",
       " 1.620729739457692e-08,\n",
       " 0.011424371345465019,\n",
       " 1.3389653215298112e-06,\n",
       " 0.013300028726629607,\n",
       " 0.07048350779084575,\n",
       " 0.004728571742561235,\n",
       " 0.00029480378130438046,\n",
       " 0.014732394867144904,\n",
       " 0.06683188586814053,\n",
       " 0.001122946256788405,\n",
       " 1.3506957953900423e-06,\n",
       " 1.8410955237203995e-05,\n",
       " 4.145431082808874e-32,\n",
       " 0.003085819343831262,\n",
       " 0.003113452911869691,\n",
       " 2.9144526580715048e-25,\n",
       " 0.00024363398876451608,\n",
       " 5.959643764120355e-08,\n",
       " 0.006343128706751221,\n",
       " 6.7635548298085405e-21,\n",
       " 0.013117951677006445,\n",
       " 1.6002039811331655e-06,\n",
       " 2.1710888023670685e-08,\n",
       " 0.0013740567095453164,\n",
       " 0.005588261857982474,\n",
       " 1.6871248921804208e-05,\n",
       " 6.4022500486976114e-15,\n",
       " 1.520715641606883e-09,\n",
       " 4.896444683607663e-10,\n",
       " 3.83045204314483e-06,\n",
       " 9.41323857421917e-08,\n",
       " 6.579947999543537e-09,\n",
       " 0.0350621257054816,\n",
       " 0.07104737443440383,\n",
       " 1.8518682223506643e-16,\n",
       " 1.422680532540287e-05,\n",
       " 2.347934495889822e-06,\n",
       " 1.8494959971297715e-05,\n",
       " 0.009648694808911923,\n",
       " 9.068896312753614e-06,\n",
       " 2.707290994917442e-10,\n",
       " 3.587084948034608e-16,\n",
       " 0.00022022593782534367,\n",
       " 1.3167091929445089e-14,\n",
       " 0.030526858748323074,\n",
       " 1.0244523227157588e-12,\n",
       " 1.4272374257889226e-15,\n",
       " 0.0022004022071981273,\n",
       " 0.028214838157439057,\n",
       " 0.01516845642893714,\n",
       " 1.140148384336277e-08,\n",
       " 0.10197485173062507,\n",
       " 0.0054338218668740605,\n",
       " 0.00021233839814618433,\n",
       " 0.003981249702028742,\n",
       " 0.04221352245787818,\n",
       " 7.397565692452741e-13,\n",
       " 1.7361696539771364e-09,\n",
       " 4.032494712607108e-10,\n",
       " 8.575818272666194e-11,\n",
       " 2.1927650987415475e-06,\n",
       " 0.0008481092159265735,\n",
       " 1.0439843632210226e-07,\n",
       " 8.969081992077154e-07,\n",
       " 4.982370069646032e-07,\n",
       " 1.4529483200529642e-14,\n",
       " 0.0161449766551886,\n",
       " 0.0008900891184346146,\n",
       " 0.047941336564626014,\n",
       " 1.2428209722501571e-18,\n",
       " 0.024717970819726313,\n",
       " 3.578924141126776e-46,\n",
       " 0.018158463686967677,\n",
       " 0.009616327064073421,\n",
       " 0.00014593344427509038,\n",
       " 3.85699091194971e-10,\n",
       " 1.19063339628218e-10,\n",
       " 1.267685819628238e-07,\n",
       " 0.0037779126506454312,\n",
       " 4.31444526713675e-10,\n",
       " 0.04398901135460396,\n",
       " 0.00023777445196834462,\n",
       " 3.120025205118086e-33,\n",
       " 1.2696901830363983e-07,\n",
       " 0.0005390475611490481,\n",
       " 5.304280691247787e-12,\n",
       " 0.0021014901763184678,\n",
       " 3.528011640906268e-07,\n",
       " 6.017782435251829e-08,\n",
       " 1.576230211534718e-09,\n",
       " 0.000489467128699189,\n",
       " 2.415160185043596e-05,\n",
       " 0.027781250828647866,\n",
       " 0.0010863068470066978,\n",
       " 0.003342775143967541,\n",
       " 0.011661990264985909,\n",
       " 1.2321652726680372e-26,\n",
       " 3.6991232211360485e-06,\n",
       " 0.052609928169172517,\n",
       " 0.02717181292261616,\n",
       " 6.665456003346855e-07,\n",
       " 9.128583083391504e-14,\n",
       " 5.429419001647622e-06,\n",
       " 3.119983393406082e-06,\n",
       " 0.00012045892791234756,\n",
       " 1.988571859605172e-16,\n",
       " 0.06385387957474369,\n",
       " 1.0254522385642313e-29,\n",
       " 0.07614656663207497,\n",
       " 5.241984195812934e-10,\n",
       " 0.0017366999546231702,\n",
       " 7.913467168834367e-08,\n",
       " 0.010407444533520766,\n",
       " 0.002388117395322326,\n",
       " 1.01022940783535e-15,\n",
       " 3.864152347803489e-10,\n",
       " 4.4787820084502355e-06,\n",
       " 0.01541831917850408,\n",
       " 0.01671614604483162,\n",
       " 0.0057644978747682886,\n",
       " 0.033550559869486345,\n",
       " 1.0056764066284293e-07,\n",
       " 2.8509735643895256e-06,\n",
       " 1.14936092766529e-10,\n",
       " 1.6435079078587896e-06,\n",
       " 0.038953404494233866,\n",
       " 6.534655631237708e-08,\n",
       " 2.731479783110978e-09,\n",
       " 2.789068605477125e-05,\n",
       " 3.5395152091573326e-05,\n",
       " 0.0022335907578197377,\n",
       " 2.5301251169012098e-12,\n",
       " 1.167241914854246e-09,\n",
       " 0.0019148572023473252,\n",
       " 0.0018340996260422194,\n",
       " 0.0007248792674848279,\n",
       " 2.730977546083011e-05,\n",
       " 0.0006556672831940422,\n",
       " 1.9009321125947064e-08,\n",
       " 0.013560881131737276,\n",
       " 4.4307260435063015e-14,\n",
       " 4.1188323154356566e-08,\n",
       " 0.04735676318881481,\n",
       " 3.711639248475228e-08,\n",
       " 7.630966590431013e-05,\n",
       " 0.020847748394964213,\n",
       " 0.0046417792622696205,\n",
       " 0.008334231147570485,\n",
       " 0.01873315888925994,\n",
       " 0.03302354463728036,\n",
       " 0.00029945213588952074,\n",
       " 0.0013392982513731,\n",
       " 0.00033082904988580755,\n",
       " 3.1379740188694056e-08,\n",
       " 2.983715303954416e-05,\n",
       " 0.004853860870371648,\n",
       " 0.010416117027703255,\n",
       " 0.04032947894420826,\n",
       " 0.0012831651826111026,\n",
       " 0.016525989961778002,\n",
       " 0.017041811698090617,\n",
       " 0.0003139871670595013,\n",
       " 0.0009239037410491283,\n",
       " 4.404520159289333e-05,\n",
       " 1.2109547554970668e-15,\n",
       " 0.0001767256877712845,\n",
       " 7.980011174536066e-05,\n",
       " 0.012046370705582494,\n",
       " 3.382370759390103e-08,\n",
       " 0.028664777825022376,\n",
       " 3.4703107183625974e-15,\n",
       " 0.034862267089266305,\n",
       " 0.07453224187423231,\n",
       " 0.0003678891183448512,\n",
       " 0.020545867236359105,\n",
       " 0.03071642144071461,\n",
       " 1.9307277830200134e-06,\n",
       " 4.5597064187037984e-23,\n",
       " 2.168792677415308e-12,\n",
       " 0.00012311543050388013,\n",
       " 6.335130293377713e-05,\n",
       " 0.010074189512957249,\n",
       " 2.4907492508907133e-08,\n",
       " 1.2458573490288343e-06,\n",
       " 6.545208389544028e-08,\n",
       " 2.404546788535637e-07,\n",
       " 2.18184439220155e-06,\n",
       " 0.00023589540752663813,\n",
       " 8.195527690781259e-07,\n",
       " 0.04973155505837644,\n",
       " 0.020279001451332063,\n",
       " 0.029335144149355716,\n",
       " 2.2221306583740908e-17,\n",
       " 8.325778536612429e-06,\n",
       " 0.000577946809750236,\n",
       " 0.00365440007171539,\n",
       " 0.0001030764782801357,\n",
       " 0.0018603605138287373,\n",
       " 0.002988742930490913,\n",
       " 4.563586949514612e-09,\n",
       " 9.359650249010552e-06,\n",
       " 0.01551063345426175,\n",
       " 0.0003251835587832828,\n",
       " 0.038598695103499135,\n",
       " 2.3843384494206278e-05,\n",
       " 1.2820995149461042e-12,\n",
       " 2.515400539486298e-06,\n",
       " 5.835153305393139e-09,\n",
       " 2.2379459757197547e-16,\n",
       " 2.7748789985197778e-05,\n",
       " 0.0014096454834871036,\n",
       " 5.720136684037593e-06,\n",
       " 0.0300079945514138,\n",
       " 2.25027503755613e-23,\n",
       " 5.628151717557641e-24,\n",
       " 2.5165729573005438e-11,\n",
       " 3.8864680870152607e-07,\n",
       " 5.086693939371454e-05,\n",
       " 5.717609234307916e-07,\n",
       " 2.3736395347138745e-05,\n",
       " 0.0001455083239740756,\n",
       " 0.00039688568645502166,\n",
       " 0.042847961135543296,\n",
       " 2.333071771740518e-07,\n",
       " 2.145343033021992e-05,\n",
       " 7.956196332820846e-07,\n",
       " 0.043928322880734366,\n",
       " 0.0026389477049104,\n",
       " 0.0020771556083768595,\n",
       " 0.000654972570811519,\n",
       " 1.665224397728682e-05,\n",
       " 2.358312331784812e-15,\n",
       " 0.0019336608332469836,\n",
       " 8.275386426797377e-06,\n",
       " 0.010231068671683437,\n",
       " 1.1239550736021531e-13,\n",
       " 0.0005042293597077279,\n",
       " 0.0026819588739632532,\n",
       " 2.2197999364892955e-15,\n",
       " 7.787187534523132e-31,\n",
       " 2.1607328074319678e-07,\n",
       " 2.146065573345971e-15,\n",
       " 4.908888976635887e-08,\n",
       " 0.001756482383601482,\n",
       " 0.017516701962768288,\n",
       " 0.006958379680201251,\n",
       " 0.00010362999441026171,\n",
       " 5.850956655774191e-06,\n",
       " 0.021153488340672405,\n",
       " 0.006626966190819389,\n",
       " 0.12313077895635466,\n",
       " 2.837048430365325e-08,\n",
       " 9.842887939258904e-08,\n",
       " 0.0004252126355986941,\n",
       " 0.0001544158376537306,\n",
       " 9.711114999343821e-05,\n",
       " 1.7407364319088278e-08,\n",
       " 9.043712934360848e-05,\n",
       " 0.008774482326133176,\n",
       " 0.004043789706181209,\n",
       " 5.498676579879958e-07,\n",
       " 2.352378587764693e-05,\n",
       " 4.931023098804359e-21,\n",
       " 3.819783389557644e-06,\n",
       " 0.011705224279814953,\n",
       " 7.975195347179662e-05,\n",
       " 0.017468696422905862,\n",
       " 0.0008033428820773881,\n",
       " 0.011490467580927153,\n",
       " 0.00021674188075296416,\n",
       " 0.002689615250034995,\n",
       " 0.00040657100254803876,\n",
       " 0.0037761715300776637,\n",
       " 0.004773592951948189,\n",
       " 2.4346021585184163e-06,\n",
       " 7.005479233017839e-05,\n",
       " 1.915520207389588e-11,\n",
       " 0.02516640637070588,\n",
       " 2.7642818648234997e-05,\n",
       " 1.9468680243937765e-05,\n",
       " 5.494546594961241e-07,\n",
       " 0.0003836036279857294,\n",
       " 0.027678866660473738,\n",
       " 0.0013802762426330213,\n",
       " 0.007538511842747734,\n",
       " 0.0006270717479578761,\n",
       " 6.620967793222514e-06,\n",
       " 0.00026071072906305287,\n",
       " 0.000930134583228313,\n",
       " 3.087242512870203e-06,\n",
       " 6.212358791719158e-05,\n",
       " 0.004618740204204242,\n",
       " 0.015865878534974093,\n",
       " 4.210822858247465e-08,\n",
       " 2.126033354163862e-05,\n",
       " 0.02158643491773813,\n",
       " 0.041413631466704896,\n",
       " 5.34426371367919e-06,\n",
       " 0.003798863080117094,\n",
       " 0.03787075494574285,\n",
       " 0.0036866319428288928,\n",
       " 0.0018081797516251094,\n",
       " 0.0029205269536170257,\n",
       " 1.4076432940794684e-10,\n",
       " 2.6905819804037143e-08,\n",
       " 1.6084907866740553e-05,\n",
       " 3.200706228406943e-52,\n",
       " 3.200706228406943e-52,\n",
       " 1.0339867508419978e-14,\n",
       " 2.0045175041818956e-43,\n",
       " 2.3267617760126882e-14,\n",
       " 0.00032590690881864875,\n",
       " 0.02305376211605598,\n",
       " 4.341835581382161e-05,\n",
       " 7.816203230113848e-10,\n",
       " 0.001216207679706912,\n",
       " 1.1421097887231931e-05,\n",
       " 0.00378488443119584,\n",
       " 5.984220947928628e-182,\n",
       " 0.026338003160181617,\n",
       " 0.02295794929258056,\n",
       " 6.183960594461666e-18,\n",
       " 3.6017183984236127e-11,\n",
       " 3.6096907708960526e-07,\n",
       " 0.04487697836212127,\n",
       " 0.0008578707512616703,\n",
       " 0.13039522905789933,\n",
       " 1.3444310709470557e-28,\n",
       " 0.00018357603178298563,\n",
       " 8.723350643745055e-17,\n",
       " 0.08415636902797549,\n",
       " 0.5601742739286264,\n",
       " 0.0002579341396686468,\n",
       " 4.871525616785998e-09,\n",
       " 0.00016336073926255382,\n",
       " 0.02561230619907522,\n",
       " 2.9208113788853914e-14,\n",
       " 1.982589655744155e-06,\n",
       " 5.916517966983814e-09,\n",
       " 6.619805228313277e-09,\n",
       " 3.2780834708563233e-09,\n",
       " 0.006282172144573402,\n",
       " 7.508717733676264e-07,\n",
       " 0.0010257574142374948,\n",
       " 3.98938903510983e-08,\n",
       " 4.554032903119616e-13,\n",
       " 1.488584574478187e-06,\n",
       " 1.6824683745211993e-07,\n",
       " 8.449892789798221e-13,\n",
       " 1.187431964340807e-09,\n",
       " 9.098560322891852e-12,\n",
       " 1.122707582478788e-19,\n",
       " 9.954221594944047e-14,\n",
       " 3.4566385136160524e-11,\n",
       " 0.0010907558744803537,\n",
       " 1.595588718709415e-06,\n",
       " 0.002935715856106965,\n",
       " 0.04450772695832165,\n",
       " 0.01018420329215989,\n",
       " 0.06950002113824486,\n",
       " 2.934913098594449e-08,\n",
       " 9.107726331937317e-12,\n",
       " 3.6427161129747057e-06,\n",
       " 2.7949203867566364e-09,\n",
       " 1.0275188492722703e-09,\n",
       " 3.0231028026089535e-19,\n",
       " 6.694688020324048e-15,\n",
       " 3.2133014485831714e-12,\n",
       " 0.0021291789195734515,\n",
       " 6.966735458422269e-10,\n",
       " 1.4760460638786974e-10,\n",
       " 2.753723216854772e-05,\n",
       " 6.412593920822604e-14,\n",
       " 0.00032356151142728544,\n",
       " 2.156647821039098e-08,\n",
       " 2.8066847585685084e-08,\n",
       " 3.04496936713447e-05,\n",
       " 5.335789619754205e-07,\n",
       " 9.802685668987038e-06,\n",
       " 2.057743727984595e-06,\n",
       " 1.2594608148737282e-10,\n",
       " 6.740790942796794e-09,\n",
       " 3.05270962170792e-05,\n",
       " 0.06544513425956891,\n",
       " 1.7949542696245223e-05,\n",
       " 0.09241388712300454,\n",
       " 7.773085482352467e-38,\n",
       " 1.898293437264343e-09,\n",
       " 0.0045812632131245834,\n",
       " 0.00110307773979505,\n",
       " 4.468960077178452e-11,\n",
       " 8.31401398203901e-05,\n",
       " 5.0898402651832144e-05,\n",
       " 4.724527843721494e-08,\n",
       " 2.043886980476544e-13,\n",
       " 0.003798863080117094,\n",
       " 1.44152994915804e-05,\n",
       " 3.56520965032174e-08,\n",
       " 4.690089680373632e-05,\n",
       " 0.0003171487476274461,\n",
       " 0.017041811698090617,\n",
       " 0.012508123713502593,\n",
       " 0.002026300642184244,\n",
       " 2.3609438396913504e-23,\n",
       " 0.000671125403847478,\n",
       " 0.0011478089979916558,\n",
       " 6.534655631237708e-08,\n",
       " 4.634032003054441e-07,\n",
       " 0.000914866668814649,\n",
       " 0.0039249947137421845,\n",
       " 5.1462578574997355e-14,\n",
       " 0.0008258750604064122,\n",
       " 0.0013426697256894416,\n",
       " 0.0030440727704733753,\n",
       " 1.1505516517622897e-06,\n",
       " 2.5652974463449158e-09,\n",
       " 0.005924761131277419,\n",
       " 3.374665821760387e-16,\n",
       " 8.987401887941518e-08,\n",
       " 1.2546741595454866e-10,\n",
       " 0.0007267891107122467,\n",
       " 9.271784806116114e-07,\n",
       " 0.002016464056213346,\n",
       " 1.4510437373887008e-05,\n",
       " 0.002581759555878896,\n",
       " 0.006254639333153304,\n",
       " 1.0376023099300588e-05,\n",
       " 9.460899646984741e-09,\n",
       " 2.3268505677631682e-23,\n",
       " 9.688066073512645e-17,\n",
       " 3.990629766481878e-05,\n",
       " 8.09856511631155e-06,\n",
       " 0.0029205269536170257,\n",
       " 9.916093127800299e-05,\n",
       " 0.000874977358869527,\n",
       " 3.969398573299399e-12,\n",
       " 0.02948593279134795,\n",
       " 1.191623386578905e-06,\n",
       " 0.00021221728691376028,\n",
       " 3.6478097602006256e-06,\n",
       " 1.7781361746547968e-41,\n",
       " 4.274660362874589e-05,\n",
       " 0.018257906761139506,\n",
       " 0.004322605474469576,\n",
       " 3.340120549877537e-11,\n",
       " 4.028097809049982e-16,\n",
       " 0.00364258991325926,\n",
       " 5.616120013490622e-41,\n",
       " 6.043709800160362e-07,\n",
       " 0.005987868902458927,\n",
       " 0.014732394867144904,\n",
       " 3.150945607566247e-08,\n",
       " 8.74805028873862e-12,\n",
       " 2.4492944114611253e-30,\n",
       " 1.5143841622038694e-38,\n",
       " 1.1402702186311309e-30,\n",
       " 0.011499937553355776,\n",
       " 2.7446259599314624e-08,\n",
       " 1.3989078083389699e-09,\n",
       " 0.002948196721304533,\n",
       " 3.797914626149266e-08,\n",
       " 0.03723353251946353,\n",
       " 4.317537962308988e-05,\n",
       " 3.6229038984854433e-19,\n",
       " 0.008005969431304145,\n",
       " 2.1512262899588846e-21,\n",
       " 5.311761451797309e-07,\n",
       " 4.6200399429671656e-07,\n",
       " 1.900770775023822e-22,\n",
       " 0.006964430724745871,\n",
       " 4.277328334555442e-05,\n",
       " 6.518968913878032e-12,\n",
       " 7.10009409433785e-20,\n",
       " 2.0140581050066347e-06,\n",
       " 8.33010006954196e-07,\n",
       " 0.036012050911948895,\n",
       " 0.0018704115794413174,\n",
       " 9.413209637851094e-14,\n",
       " 0.04795766089050176,\n",
       " 9.539091828837236e-10,\n",
       " 7.05383119233165e-13,\n",
       " 1.492235378381501e-15,\n",
       " 8.465103415045214e-09,\n",
       " 7.065933008356151e-08,\n",
       " 0.002859134497907574,\n",
       " 1.1885967704309125e-16,\n",
       " 0.04016051649780183,\n",
       " 3.529895534240811e-06,\n",
       " 0.0048407620521612234,\n",
       " 2.6830192623806378e-11,\n",
       " 6.503263533398042e-07,\n",
       " 2.32179490171077e-13,\n",
       " 0.0002756373166842808,\n",
       " 1.2820848865703297e-19,\n",
       " 7.315900104523244e-07,\n",
       " 0.028664777825022376,\n",
       " 2.6696337342676023e-06,\n",
       " 0.0007858938050916026,\n",
       " 4.0705551945831194e-09,\n",
       " 0.025621867211466694,\n",
       " 3.563848378156192e-15,\n",
       " 0.00534969677587954,\n",
       " 1.4529536666882227e-05,\n",
       " 0.043100999745286105,\n",
       " 1.9165352441146707e-15,\n",
       " 1.4657240576419201e-19,\n",
       " 1.3729541058942241e-05,\n",
       " 3.351617869126886e-06,\n",
       " 4.927110172036701e-06,\n",
       " 0.001851266264563079,\n",
       " 2.620127305585735e-08,\n",
       " 1.1535563132425276e-05,\n",
       " 3.604283810001733e-10,\n",
       " 0.00013910696764582486,\n",
       " 0.01898218286488531,\n",
       " 0.004066074686275137,\n",
       " 0.031008295695862182,\n",
       " 7.988901151712683e-12,\n",
       " 3.6002080300229314e-05,\n",
       " 2.30788501379654e-41,\n",
       " 0.005191930711080748,\n",
       " 0.0809345857775109,\n",
       " 9.447965300149905e-06,\n",
       " 2.9357899182360937e-07,\n",
       " 0.0015935512548766535,\n",
       " 1.6356778652609701e-21,\n",
       " 2.357882708220597e-19,\n",
       " 3.16522710853031e-19,\n",
       " 2.8488114298879635e-08,\n",
       " 4.405919459907985e-13,\n",
       " 5.7464323442351904e-08,\n",
       " 1.0481418286295607e-07,\n",
       " 5.835125198971902e-13,\n",
       " 1.1564376496904254e-23,\n",
       " 0.005919529303967802,\n",
       " 5.5021764801081875e-12,\n",
       " 1.1484234470679126e-09,\n",
       " 2.5768182626825722e-11,\n",
       " 0.0026351830362162107,\n",
       " 0.030772367180152686,\n",
       " 7.414459837047423e-07,\n",
       " 0.000615175355582925,\n",
       " 5.096310863362345e-07,\n",
       " 1.0247307589144986e-09,\n",
       " 0.00010726494950453853,\n",
       " 1.7687979882435241e-06,\n",
       " 0.03949065824197737,\n",
       " 0.021561724122609583,\n",
       " 0.00575684329356394,\n",
       " 3.2751130209538225e-05,\n",
       " 7.97268077752944e-48,\n",
       " 9.397336983729445e-15,\n",
       " 2.920087383702429e-12,\n",
       " 1.1933769055327263e-22,\n",
       " 0.00829520522008038,\n",
       " 1.3968281841996708e-07,\n",
       " 5.615155096746071e-11,\n",
       " 0.042892523532427285,\n",
       " 3.403802859388376e-05,\n",
       " 2.3917411205867838e-06,\n",
       " 4.089574585997318e-11,\n",
       " 9.080255410436365e-12,\n",
       " 0.06510744348515471,\n",
       " 5.096138451145618e-05,\n",
       " 0.16364439460942432,\n",
       " 0.014946038550170892,\n",
       " 0.0018028592288782065,\n",
       " 9.755113905446649e-07,\n",
       " 2.4338945644409432e-18,\n",
       " 7.842553642308672e-11,\n",
       " 0.0009407678512193438,\n",
       " 0.0002092105062001429,\n",
       " 1.377451833051169e-06,\n",
       " 0.002783062624153261,\n",
       " 0.0022411481499077647,\n",
       " 0.05008608516066304,\n",
       " 5.367433122393175e-05,\n",
       " 1.7663552252818288e-14,\n",
       " 0.01837929980976345,\n",
       " 0.004328513021861584,\n",
       " 0.0072260095140249374,\n",
       " 2.2255911943348037e-10,\n",
       " 3.879677631092485e-05,\n",
       " 0.04899555120852108,\n",
       " 1.819165854763431e-23,\n",
       " 0.06978941689362565,\n",
       " 3.911426025045946e-05,\n",
       " 3.326515331717733e-16,\n",
       " 9.139384547064306e-08,\n",
       " 0.00787996843208553,\n",
       " 5.390999254999857e-17,\n",
       " 0.0006038110545712015,\n",
       " 0.016299023483795586,\n",
       " 2.5260484721409666e-05,\n",
       " 0.01684840493563616,\n",
       " 0.005276170111866932,\n",
       " 7.781976080242838e-06,\n",
       " 0.09177141657328246,\n",
       " 0.01986137044614836,\n",
       " 0.00024390979498193233,\n",
       " 0.027434471411966806,\n",
       " 0.002464864014640985,\n",
       " 0.026289076469463362,\n",
       " 0.012145446297795306,\n",
       " 0.009301856482263712,\n",
       " 2.261565709364042e-27,\n",
       " 0.024643908451267686,\n",
       " 0.13630568939304719,\n",
       " 2.3015163801917683e-08,\n",
       " 0.11498163071805782,\n",
       " 8.746508704069139e-08,\n",
       " 4.965589071985766e-48,\n",
       " 0.09562301438140215,\n",
       " 2.4610463382933346e-13,\n",
       " 0.00027532800040350967,\n",
       " 7.257442493823692e-06,\n",
       " 0.09897992951999215,\n",
       " 0.04966426468489539,\n",
       " 0.0418774463302252,\n",
       " 0.002498099777996324,\n",
       " 0.0002580795819593119,\n",
       " 3.464063804010349e-08,\n",
       " 0.10058834782420598,\n",
       " 1.6148138895940964e-09,\n",
       " 1.3333687815678318e-07,\n",
       " 9.423329473586787e-07,\n",
       " 0.014045215448884582,\n",
       " 6.7291764645453575e-09,\n",
       " 0.0008371416556128185,\n",
       " 0.020341519839732702,\n",
       " 0.017237163824772046,\n",
       " 0.003377211927489878,\n",
       " 0.0009096721901243674,\n",
       " 0.0001491158768167473,\n",
       " 0.00036285284018823007,\n",
       " 0.0026578448968080015,\n",
       " 0.017502974306593328,\n",
       " 0.06650973745482654,\n",
       " 5.576679727256915e-08,\n",
       " 1.585218096600041e-07,\n",
       " 2.1674509906625694e-07,\n",
       " 0.008883036283996101,\n",
       " 3.550805538149977e-09,\n",
       " 7.646250129530843e-06,\n",
       " 0.0035068040162018754,\n",
       " 1.5172375812733517e-46,\n",
       " 2.443595173913527e-08,\n",
       " 0.00016806250340009504,\n",
       " 6.743438560138212e-08,\n",
       " 1.3914807672610021e-39,\n",
       " 9.54909161021541e-07,\n",
       " 0.041746556132970604,\n",
       " 0.0006224201659914112,\n",
       " 0.0021940310603936657,\n",
       " 6.909631530329073e-10,\n",
       " 0.00025720808035344995,\n",
       " 0.052981546270278616,\n",
       " 0.03269187394063976,\n",
       " 0.0006442916871905315,\n",
       " 0.0009139201783569405,\n",
       " 4.240781607710979e-17,\n",
       " 0.014999874097293244,\n",
       " 7.626411495434362e-17,\n",
       " 0.00043625424184473333,\n",
       " 8.444777434853928e-12,\n",
       " 0.0716832901596427,\n",
       " 0.009111446991521104,\n",
       " 5.467598438231699e-05,\n",
       " 0.006874159493006322,\n",
       " 5.832302850196255e-05,\n",
       " 1.6915378058397677e-05,\n",
       " 0.00043199429006926326,\n",
       " 0.0020771556083768595,\n",
       " 0.01479146866544263,\n",
       " 2.3645054080185013e-05,\n",
       " 0.0016868868578931756,\n",
       " 8.243627662476347e-08,\n",
       " 0.0845467349097451,\n",
       " 0.004131710696398266,\n",
       " 1.5123034549573055e-07,\n",
       " 9.447965300149905e-06,\n",
       " 0.003431068143179189,\n",
       " 6.2309595113945415e-06,\n",
       " 0.0032172186509592518,\n",
       " 0.10591310657854958,\n",
       " 1.17596980845431e-10,\n",
       " 3.4644686978237774e-05,\n",
       " 2.1809479638977928e-07,\n",
       " 4.3094674600741626e-05,\n",
       " 0.036307722501102424,\n",
       " 0.004184910091466289,\n",
       " 0.0038023650648993275,\n",
       " 0.07674719242404164,\n",
       " 0.006475140764915261,\n",
       " 1.1709844037915993e-17,\n",
       " 1.9169363455502058e-06,\n",
       " 0.0027857002091476644,\n",
       " 0.0022727076035635578,\n",
       " 1.3588396422398162e-21,\n",
       " 0.07152387565130425,\n",
       " 3.5095426146453796e-38,\n",
       " 1.3003315941021737e-08,\n",
       " 3.4343363840821106e-09,\n",
       " 0.0022595994638385706,\n",
       " 0.07159216054622095,\n",
       " 0.0012619637409935045,\n",
       " 0.10713672865562797,\n",
       " 0.0002823669088409941,\n",
       " 5.542139455822507e-30,\n",
       " 0.00014491511436901295,\n",
       " 0.03130254732067057,\n",
       " 1.3880553790597307e-07,\n",
       " 2.68037873559691e-11,\n",
       " 2.2527315190666823e-17,\n",
       " 5.976192248147469e-07,\n",
       " 0.0009584109416476526,\n",
       " 0.03230464242182393,\n",
       " 6.0878514726617385e-06,\n",
       " 0.005278527619133995,\n",
       " 0.0025172752187265454,\n",
       " 0.0003947147500266946,\n",
       " 1.777724870566285e-06,\n",
       " 0.0002376397701447306,\n",
       " 4.934762410310799e-05,\n",
       " 0.023511411076628793,\n",
       " 4.101538412243501e-12,\n",
       " 3.313754255655183e-07,\n",
       " 0.00161342759247912,\n",
       " 1.306297395507108e-07,\n",
       " 2.7991197013861473e-06,\n",
       " 1.6259479085877946e-11,\n",
       " 0.06356426763003324,\n",
       " 0.00010637669105974153,\n",
       " 0.11022868200934319,\n",
       " 1.4290814119500563e-07,\n",
       " 9.763438162809189e-05,\n",
       " 0.00010720127109465559,\n",
       " 9.850730163744852e-08,\n",
       " 0.011242022261204552,\n",
       " 0.0007858938050912157,\n",
       " 0.0011821511646633676,\n",
       " 0.0001236241848024989,\n",
       " 1.4852218708832299e-07,\n",
       " 1.0412168312758397e-18,\n",
       " 0.06550861178017325,\n",
       " 4.828884460405032e-05,\n",
       " 2.3989744385045005e-07,\n",
       " 0.002292500470327861,\n",
       " 0.0011725838404758747,\n",
       " 8.294006526290684e-05,\n",
       " 0.002656581246435978,\n",
       " 1.1413330671881097e-06,\n",
       " 0.027740258040425358,\n",
       " 2.3053524602625306e-08,\n",
       " 0.0009451501935234264,\n",
       " 0.01494006734315212,\n",
       " 1.2727445335882559e-12,\n",
       " 0.031909793695574284,\n",
       " 0.06921161150396139,\n",
       " 0.0005776378562337875,\n",
       " 0.03796445384156525,\n",
       " 0.04095417435577003,\n",
       " 0.007930834247652443,\n",
       " 1.392531742150582e-08,\n",
       " 0.014469128455754219,\n",
       " 0.000472284621810162,\n",
       " 1.4433166632957756e-18,\n",
       " 6.746069021944682e-35,\n",
       " 8.452271782903755e-15,\n",
       " 1.760550497385265e-11,\n",
       " 9.324339416306721e-26,\n",
       " 2.6963327147841056e-05,\n",
       " 0.00079873846210374,\n",
       " 0.00010143262456034379,\n",
       " 0.0005001626570489092,\n",
       " 0.002833568815658707,\n",
       " 0.01183578062820525,\n",
       " 0.0009162881077858647,\n",
       " 0.0024636845410659475,\n",
       " 0.04412581926458676,\n",
       " 4.643896276528229e-22,\n",
       " 5.467598438231699e-05,\n",
       " 1.617859744330555e-07,\n",
       " 8.18843104531629e-14,\n",
       " 0.03387750437712455,\n",
       " 0.0017273113984925727,\n",
       " 2.0121846252814806e-22,\n",
       " 0.04576431632102613,\n",
       " 0.022170060194504453,\n",
       " 0.004175364860391312,\n",
       " 7.951157393015257e-05,\n",
       " 0.07161493404527203,\n",
       " 0.00010606114144342604,\n",
       " 6.640028875310492e-05,\n",
       " 0.004775746463705616,\n",
       " 3.5529179434124885e-05,\n",
       " 4.619871257450768e-10,\n",
       " 0.0007528360941277435,\n",
       " 0.000587601028381077,\n",
       " 0.002380107243700101,\n",
       " 5.167189001727592e-21,\n",
       " 2.415195064759582e-28,\n",
       " 3.3378198965386708e-12,\n",
       " 9.811118182557648e-10,\n",
       " 1.9233443785544936e-08,\n",
       " 8.091536888056958e-05,\n",
       " 0.0015230897475892607,\n",
       " 0.007166785531534262,\n",
       " 0.12489878840268857,\n",
       " 3.9795969134095276e-08,\n",
       " 1.02180839185623e-07,\n",
       " 0.002917773052871735,\n",
       " 0.00012538357192103268,\n",
       " 3.8016429535741545e-07,\n",
       " 1.8707498998111958e-06,\n",
       " 2.564250773930409e-10,\n",
       " 1.4448870800932239e-09,\n",
       " 1.666515455453768e-26,\n",
       " 2.3882772367733294e-16,\n",
       " 1.1492188292914829e-07,\n",
       " 1.0259686894331083e-08,\n",
       " 3.314583902799669e-16,\n",
       " 1.014715688880624e-16,\n",
       " 1.6762741791002612e-13,\n",
       " 9.21714139112125e-15,\n",
       " 6.03466516183284e-07,\n",
       " 1.8256336675693673e-06,\n",
       " 1.2116406598204516e-33,\n",
       " 8.554623390636678e-17,\n",
       " 1.3253842129083228e-25,\n",
       " 8.136006080339422e-10,\n",
       " 3.073942209695321e-10,\n",
       " 9.299722209254886e-10,\n",
       " 8.584056152368581e-11,\n",
       " 0.000577946809750236,\n",
       " 3.6160195770845306e-12,\n",
       " 1.2873798602146171e-06,\n",
       " 0.0009258167918067675,\n",
       " 3.5710751201044135e-08,\n",
       " 5.451192472170121e-14,\n",
       " 1.874781775039691e-06,\n",
       " 0.11106932174751619,\n",
       " 3.795391756665478e-09,\n",
       " 1.56476872740833e-06,\n",
       " 0.0029523677573565768,\n",
       " 4.8619260901197256e-05,\n",
       " 0.00016421494369465764,\n",
       " 0.005841549969200946,\n",
       " 5.739465307762855e-17,\n",
       " 0.017434477410776004,\n",
       " 1.4712179579020893e-05,\n",
       " 0.007964907962727,\n",
       " 7.829180462751621e-12,\n",
       " 0.00026144605447808245,\n",
       " 0.0011132548708733907,\n",
       " 0.021056519588147506,\n",
       " 1.5896454422235303e-05,\n",
       " 5.3229550135835825e-09,\n",
       " 3.859286332167448e-22,\n",
       " 8.9162739557099e-07,\n",
       " 0.006191725679698105,\n",
       " 0.002590388359750485,\n",
       " 7.923272220315224e-13,\n",
       " 6.3103370030017936e-18,\n",
       " 0.006089028905757223,\n",
       " 5.72588342294066e-10,\n",
       " 0.0003586722622878213,\n",
       " 0.08146448669672895,\n",
       " 2.5783378625432246e-05,\n",
       " 6.273460237938749e-05,\n",
       " 0.009297935352934357,\n",
       " 8.454283352632569e-07,\n",
       " 1.068627393530827e-11,\n",
       " 4.971477446379669e-19,\n",
       " 0.004391983858049116,\n",
       " 0.001973701516171504,\n",
       " 0.0001298858589413169,\n",
       " 0.0012354478543700892,\n",
       " 3.138494632049982e-18,\n",
       " 0.0002332352169827324,\n",
       " 0.0022249823373999807,\n",
       " 9.213273434163233e-05,\n",
       " 1.0501478217717812e-05,\n",
       " 0.00046440977605291187,\n",
       " 0.006287691780725545,\n",
       " 0.000633772989264985,\n",
       " 2.1740758866786543e-06,\n",
       " 1.8449891952251598e-07,\n",
       " 0.0002566286132148326,\n",
       " 0.08750798138158192,\n",
       " 0.0005373124966449452,\n",
       " 6.239021024968335e-05,\n",
       " 7.54748139122853e-08,\n",
       " 0.055331163605836786,\n",
       " 0.0023562241436430533,\n",
       " 4.4072649545281854e-05,\n",
       " 1.3530410310953195e-13,\n",
       " 3.0789689479902765e-08,\n",
       " 9.713737846608373e-10,\n",
       " 1.4242728248276745e-09,\n",
       " 3.863666353162546e-21,\n",
       " 0.1691819091187825,\n",
       " 0.02318497551575158,\n",
       " 0.04589003001314196,\n",
       " 8.14048444705513e-05,\n",
       " 0.035363747192671116,\n",
       " 0.06288590279798431,\n",
       " 1.627288209505996e-15,\n",
       " 2.108626723417386e-18,\n",
       " 7.467112468977175e-06,\n",
       " 0.000982917839445492,\n",
       " 1.3494918299525266e-09,\n",
       " 8.375791688041325e-62,\n",
       " 1.841251443041371e-46,\n",
       " 0.0033256769443966903,\n",
       " 7.1802815305574895e-16,\n",
       " 3.5414725151266363e-09,\n",
       " 1.8106988146697827e-14,\n",
       " 8.969427744500533e-22,\n",
       " 6.122394455594006e-15,\n",
       " 6.23807220434156e-14,\n",
       " 0.006359845348359177,\n",
       " 0.000927733512300326,\n",
       " 1.1951089904588024e-06,\n",
       " 3.106782002592712e-23,\n",
       " 0.002363025396985055,\n",
       " 0.00015522596073168504,\n",
       " 3.5118912682706596e-07,\n",
       " 0.002226056724743754,\n",
       " 0.0018458293386979482,\n",
       " 4.560513613870683e-10,\n",
       " 0.03169095030373473,\n",
       " 0.04326540266832088,\n",
       " 1.4439713989344938e-06,\n",
       " 7.936079658185616e-06,\n",
       " 5.837008098278441e-11,\n",
       " 0.00015209777961262713,\n",
       " 1.2877660163586151e-05,\n",
       " 0.012006941488825225,\n",
       " 3.0594263809371876e-18,\n",
       " 5.334432839720852e-05,\n",
       " 1.4957626843798333e-07,\n",
       " 0.0012974816213383886,\n",
       " 4.042187887093648e-09,\n",
       " 0.000568440445239194,\n",
       " 1.24583888334529e-07,\n",
       " 0.037884128447228306,\n",
       " 0.020783875127228367,\n",
       " 1.530545020951744e-64,\n",
       " 1.2549570474473156e-05,\n",
       " 4.338518542066578e-09,\n",
       " 1.537189338500093e-16,\n",
       " 0.0007846610024736079,\n",
       " 0.056744572593240276,\n",
       " 1.2604711024335816e-06,\n",
       " 0.001694399528643906,\n",
       " 1.4290814119500563e-07,\n",
       " 5.717609234307916e-07,\n",
       " 4.1350918952961024e-09,\n",
       " 2.748102782046407e-10,\n",
       " 8.129029125279767e-07,\n",
       " 4.281407760173504e-11,\n",
       " 9.176571937084292e-07,\n",
       " 1.7763450432441684e-05,\n",
       " 0.0004886736238156359,\n",
       " 1.3880553790597307e-07,\n",
       " 3.0103684461229295e-05,\n",
       " 1.0028292240248144e-05,\n",
       " 0.005347310578691368,\n",
       " ...]"
      ]
     },
     "execution_count": 36,
     "metadata": {},
     "output_type": "execute_result"
    }
   ],
   "source": [
    "res"
   ]
  },
  {
   "cell_type": "code",
   "execution_count": 39,
   "id": "0ce2a3aa-f04a-4761-9824-2e323757eb1b",
   "metadata": {},
   "outputs": [
    {
     "data": {
      "text/plain": [
       "list"
      ]
     },
     "execution_count": 39,
     "metadata": {},
     "output_type": "execute_result"
    }
   ],
   "source": [
    "# todos\n",
    "type(res)"
   ]
  },
  {
   "cell_type": "code",
   "execution_count": 42,
   "id": "7e593986-dfc4-4a8f-b9ae-a82056ad6831",
   "metadata": {},
   "outputs": [
    {
     "data": {
      "text/plain": [
       "1706"
      ]
     },
     "execution_count": 42,
     "metadata": {},
     "output_type": "execute_result"
    }
   ],
   "source": [
    "# alpha = 0.05\n",
    "alpha = 0.1\n",
    "primer_criterio = [x for x in res if x <= alpha]\n",
    "len(primer_criterio)"
   ]
  },
  {
   "cell_type": "markdown",
   "id": "e2ce772d-6d7e-4ace-9a09-97c5b3fa0552",
   "metadata": {},
   "source": [
    "# SEGUNDA FASE"
   ]
  },
  {
   "cell_type": "code",
   "execution_count": 43,
   "id": "11b8f529-5c49-4878-a3ad-9dbbc3d01436",
   "metadata": {},
   "outputs": [],
   "source": [
    "\n",
    "T = np.loadtxt('delitos_train_data.csv', delimiter=',')\n",
    "y_t = np.loadtxt('delitos_train_label.csv', delimiter=',')\n",
    "G = np.loadtxt('delitos_test_data.csv', delimiter=',')\n",
    "y_g = np.loadtxt('delitos_test_label.csv', delimiter=',')"
   ]
  },
  {
   "cell_type": "markdown",
   "id": "32dacd75-7000-4696-b7d4-df582b8d84fb",
   "metadata": {},
   "source": [
    "Los datos de entrenamiento y validación se generan de manera equivalente tal como se muestra en la siguiente instrucción. El conjunto de validación (\n",
    "\n",
    " ) se encuentra en la variable V y la variable dependiente en y_v."
   ]
  },
  {
   "cell_type": "code",
   "execution_count": 44,
   "id": "4c163bf1-b90c-4bb2-a176-2e29a635c90d",
   "metadata": {},
   "outputs": [],
   "source": [
    "T, V, y_t, y_v = train_test_split(T, y_t, test_size=0.3)"
   ]
  },
  {
   "cell_type": "code",
   "execution_count": 45,
   "id": "7780b574-141c-4bd1-97b2-907d1cde5b26",
   "metadata": {},
   "outputs": [
    {
     "data": {
      "text/plain": [
       "(1008, 1744)"
      ]
     },
     "execution_count": 45,
     "metadata": {},
     "output_type": "execute_result"
    }
   ],
   "source": [
    "T.shape"
   ]
  },
  {
   "cell_type": "code",
   "execution_count": 46,
   "id": "f998b64d-c8d3-47e9-b244-f8acbf7f6f5c",
   "metadata": {},
   "outputs": [
    {
     "data": {
      "text/plain": [
       "(432, 1744)"
      ]
     },
     "execution_count": 46,
     "metadata": {},
     "output_type": "execute_result"
    }
   ],
   "source": [
    "V.shape"
   ]
  },
  {
   "cell_type": "code",
   "execution_count": 47,
   "id": "eef9ea93-00d2-4f14-99f3-f7d88515e9a1",
   "metadata": {},
   "outputs": [
    {
     "data": {
      "text/plain": [
       "array([0.78527607, 0.87735849])"
      ]
     },
     "execution_count": 47,
     "metadata": {},
     "output_type": "execute_result"
    }
   ],
   "source": [
    "gaussian = GaussianBayes(naive=True).fit(T, y_t)\n",
    "hy_gaussian = gaussian.predict(V)\n",
    "recall_score(y_v, hy_gaussian, average=None)"
   ]
  },
  {
   "cell_type": "code",
   "execution_count": 56,
   "id": "7a9e6ff3-9d71-41b2-b2f0-5751895b0be1",
   "metadata": {},
   "outputs": [
    {
     "data": {
      "text/plain": [
       "0.7969792438843588"
      ]
     },
     "execution_count": 56,
     "metadata": {},
     "output_type": "execute_result"
    }
   ],
   "source": [
    "hy_gaussian = gaussian.predict(G)\n",
    "prueba = recall_score(y_g, hy_gaussian, average=None)\n",
    "np.sum(prueba)/2\n"
   ]
  },
  {
   "cell_type": "code",
   "execution_count": 57,
   "id": "d58fb864-70c5-4b3b-8a16-5e1451d55fab",
   "metadata": {},
   "outputs": [
    {
     "data": {
      "text/plain": [
       "0.8409736252213282"
      ]
     },
     "execution_count": 57,
     "metadata": {},
     "output_type": "execute_result"
    }
   ],
   "source": [
    "perf = []\n",
    "kfold = KFold(shuffle=True)\n",
    "for ts, vs in kfold.split(T):\n",
    "    gaussian = GaussianBayes(naive=True).fit(T[ts], y_t[ts])\n",
    "    hy_gaussian = gaussian.predict(T[vs])\n",
    "    _ = recall_score(y_t[vs], hy_gaussian, average=None)    \n",
    "    perf.append(_)\n",
    "kfold_results = np.mean(perf, axis=0)\n",
    "\n",
    "np.sum(kfold_results)/2"
   ]
  },
  {
   "cell_type": "code",
   "execution_count": 68,
   "id": "c9359c23-895b-4ee4-99f9-75c9533ddf38",
   "metadata": {},
   "outputs": [
    {
     "name": "stderr",
     "output_type": "stream",
     "text": [
      "C:\\Users\\rodri\\OneDrive\\Imágenes\\Documentos\\INFOTEC\\Segundo Trimestre\\Aprendizaje Computacional\\Unidad 5 (Reducción Dimensional)\\venv\\lib\\site-packages\\sklearn\\cluster\\_kmeans.py:1416: FutureWarning: The default value of `n_init` will change from 10 to 'auto' in 1.4. Set the value of `n_init` explicitly to suppress the warning\n",
      "  super()._check_params_vs_input(X, default_n_init=10)\n"
     ]
    },
    {
     "data": {
      "text/plain": [
       "[<matplotlib.lines.Line2D at 0x2af9603d300>]"
      ]
     },
     "execution_count": 68,
     "metadata": {},
     "output_type": "execute_result"
    },
    {
     "data": {
      "image/png": "[encoded data removed]",
      "text/plain": [
       "<Figure size 640x480 with 1 Axes>"
      ]
     },
     "metadata": {},
     "output_type": "display_data"
    }
   ],
   "source": [
    "from sklearn import datasets\n",
    "from sklearn import decomposition\n",
    "import numpy as np\n",
    "from matplotlib import pylab as plt\n",
    "from sklearn.cluster import KMeans\n",
    "\n",
    "X, y = datasets.load_breast_cancer(return_X_y=True)\n",
    "pca = decomposition.PCA(n_components=2).fit(X)\n",
    "Xn = pca.transform(X)\n",
    "m = KMeans(n_clusters=2).fit(Xn)\n",
    "mask = m.predict(Xn)\n",
    "\n",
    "plt.plot(Xn[mask==0, 0], Xn[mask==0, 1], '.')\n",
    "plt.plot(Xn[mask==1, 0], Xn[mask==1, 1], '.')"
   ]
  },
  {
   "cell_type": "code",
   "execution_count": 66,
   "id": "4157f2dc-6999-44b2-93be-418b109eb794",
   "metadata": {},
   "outputs": [
    {
     "name": "stderr",
     "output_type": "stream",
     "text": [
      "C:\\Users\\rodri\\OneDrive\\Imágenes\\Documentos\\INFOTEC\\Segundo Trimestre\\Aprendizaje Computacional\\Unidad 5 (Reducción Dimensional)\\venv\\lib\\site-packages\\sklearn\\cluster\\_kmeans.py:1416: FutureWarning: The default value of `n_init` will change from 10 to 'auto' in 1.4. Set the value of `n_init` explicitly to suppress the warning\n",
      "  super()._check_params_vs_input(X, default_n_init=10)\n"
     ]
    },
    {
     "data": {
      "text/plain": [
       "[<matplotlib.lines.Line2D at 0x2af90d3e860>]"
      ]
     },
     "execution_count": 66,
     "metadata": {},
     "output_type": "execute_result"
    },
    {
     "data": {
      "image/png": "[encoded data removed]",
      "text/plain": [
       "<Figure size 640x480 with 1 Axes>"
      ]
     },
     "metadata": {},
     "output_type": "display_data"
    }
   ],
   "source": [
    "from sklearn import datasets\n",
    "from sklearn import decomposition\n",
    "import numpy as np\n",
    "from matplotlib import pylab as plt\n",
    "from sklearn.cluster import KMeans\n",
    "\n",
    "X, y = datasets.load_breast_cancer(return_X_y=True)\n",
    "# pca = decomposition.PCA(n_components=2).fit(X)\n",
    "# Xn = pca.transform(X)\n",
    "m = KMeans(n_clusters=2).fit(X)\n",
    "mask = m.predict(X)\n",
    "\n",
    "plt.plot(X[mask==0, 0], X[mask==0, 1], '.')\n",
    "plt.plot(X[mask==1, 0], X[mask==1, 1], '.')"
   ]
  },
  {
   "cell_type": "code",
   "execution_count": 63,
   "id": "341c5c68-0ee4-4715-80d3-6c52c9552fe7",
   "metadata": {},
   "outputs": [
    {
     "data": {
      "text/plain": [
       "(569, 30)"
      ]
     },
     "execution_count": 63,
     "metadata": {},
     "output_type": "execute_result"
    }
   ],
   "source": [
    "X.shape"
   ]
  },
  {
   "cell_type": "code",
   "execution_count": 64,
   "id": "cbba9283-53d8-42f9-a13d-140c861c538a",
   "metadata": {},
   "outputs": [
    {
     "data": {
      "text/plain": [
       "(569, 2)"
      ]
     },
     "execution_count": 64,
     "metadata": {},
     "output_type": "execute_result"
    }
   ],
   "source": [
    "Xn.shape"
   ]
  },
  {
   "cell_type": "code",
   "execution_count": null,
   "id": "aabd4ec6-5a2a-4b6f-ae60-7f2081807a21",
   "metadata": {},
   "outputs": [],
   "source": []
  },
  {
   "cell_type": "code",
   "execution_count": null,
   "id": "befeaac4-26a7-4bfc-9776-f06270f39e83",
   "metadata": {},
   "outputs": [],
   "source": []
  }
 ],
 "metadata": {
  "colab": {
   "provenance": []
  },
  "kernelspec": {
   "display_name": "Python 3 (ipykernel)",
   "language": "python",
   "name": "python3"
  },
  "language_info": {
   "codemirror_mode": {
    "name": "ipython",
    "version": 3
   },
   "file_extension": ".py",
   "mimetype": "text/x-python",
   "name": "python",
   "nbconvert_exporter": "python",
   "pygments_lexer": "ipython3",
   "version": "3.8.15"
  }
 },
 "nbformat": 4,
 "nbformat_minor": 5
}
